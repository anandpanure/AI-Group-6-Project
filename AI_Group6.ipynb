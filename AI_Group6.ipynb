{
  "cells": [
    {
      "cell_type": "markdown",
      "metadata": {
        "id": "view-in-github",
        "colab_type": "text"
      },
      "source": [
        "<a href=\"https://colab.research.google.com/github/anandpanure/AI-Group-6-Project/blob/main/AI_Group6.ipynb\" target=\"_parent\"><img src=\"https://colab.research.google.com/assets/colab-badge.svg\" alt=\"Open In Colab\"/></a>"
      ]
    },
    {
      "cell_type": "markdown",
      "metadata": {
        "id": "jZHws-hL9yaK"
      },
      "source": [
        "**Group 6 Midterm Project**"
      ]
    },
    {
      "cell_type": "code",
      "execution_count": 881,
      "metadata": {
        "id": "TB1E48jl6CIq"
      },
      "outputs": [],
      "source": [
        "#Riya\n",
        "import pandas as pd\n",
        "import numpy as np\n",
        "import matplotlib.pyplot as plt"
      ]
    },
    {
      "cell_type": "markdown",
      "metadata": {
        "id": "WEOWHJW8iw3i"
      },
      "source": []
    },
    {
      "cell_type": "code",
      "execution_count": 882,
      "metadata": {
        "id": "FBsCQGkGryYh",
        "colab": {
          "base_uri": "https://localhost:8080/",
          "height": 206
        },
        "outputId": "5616c17f-fb74-45fe-a819-8100db4205b2"
      },
      "outputs": [
        {
          "output_type": "execute_result",
          "data": {
            "text/plain": [
              "   Unnamed: 0  ID  Tradability  Init status  Unitprice  Expire date  \\\n",
              "0           0   1            1            0      0.058          547   \n",
              "1           1   2            0            0      0.954          547   \n",
              "2           2   3            1            0      2.385          547   \n",
              "3           3   4            0            0      5.100          547   \n",
              "4           4   5            0            0      0.000          547   \n",
              "\n",
              "   Number of outbound orders  Total outbound  Pal grossweight  Pal height  \\\n",
              "0                          9          2441.0           105.60        1.56   \n",
              "1                          0             0.0           207.68        1.00   \n",
              "2                         12            23.0           165.78        1.02   \n",
              "3                          0             0.0           221.04        1.05   \n",
              "4                          0             0.0             0.00        0.00   \n",
              "\n",
              "   Units per pal  \n",
              "0           1920  \n",
              "1            384  \n",
              "2            108  \n",
              "3             72  \n",
              "4              0  "
            ],
            "text/html": [
              "\n",
              "  <div id=\"df-cbf1458f-f476-4509-a28b-0a446fa93312\">\n",
              "    <div class=\"colab-df-container\">\n",
              "      <div>\n",
              "<style scoped>\n",
              "    .dataframe tbody tr th:only-of-type {\n",
              "        vertical-align: middle;\n",
              "    }\n",
              "\n",
              "    .dataframe tbody tr th {\n",
              "        vertical-align: top;\n",
              "    }\n",
              "\n",
              "    .dataframe thead th {\n",
              "        text-align: right;\n",
              "    }\n",
              "</style>\n",
              "<table border=\"1\" class=\"dataframe\">\n",
              "  <thead>\n",
              "    <tr style=\"text-align: right;\">\n",
              "      <th></th>\n",
              "      <th>Unnamed: 0</th>\n",
              "      <th>ID</th>\n",
              "      <th>Tradability</th>\n",
              "      <th>Init status</th>\n",
              "      <th>Unitprice</th>\n",
              "      <th>Expire date</th>\n",
              "      <th>Number of outbound orders</th>\n",
              "      <th>Total outbound</th>\n",
              "      <th>Pal grossweight</th>\n",
              "      <th>Pal height</th>\n",
              "      <th>Units per pal</th>\n",
              "    </tr>\n",
              "  </thead>\n",
              "  <tbody>\n",
              "    <tr>\n",
              "      <th>0</th>\n",
              "      <td>0</td>\n",
              "      <td>1</td>\n",
              "      <td>1</td>\n",
              "      <td>0</td>\n",
              "      <td>0.058</td>\n",
              "      <td>547</td>\n",
              "      <td>9</td>\n",
              "      <td>2441.0</td>\n",
              "      <td>105.60</td>\n",
              "      <td>1.56</td>\n",
              "      <td>1920</td>\n",
              "    </tr>\n",
              "    <tr>\n",
              "      <th>1</th>\n",
              "      <td>1</td>\n",
              "      <td>2</td>\n",
              "      <td>0</td>\n",
              "      <td>0</td>\n",
              "      <td>0.954</td>\n",
              "      <td>547</td>\n",
              "      <td>0</td>\n",
              "      <td>0.0</td>\n",
              "      <td>207.68</td>\n",
              "      <td>1.00</td>\n",
              "      <td>384</td>\n",
              "    </tr>\n",
              "    <tr>\n",
              "      <th>2</th>\n",
              "      <td>2</td>\n",
              "      <td>3</td>\n",
              "      <td>1</td>\n",
              "      <td>0</td>\n",
              "      <td>2.385</td>\n",
              "      <td>547</td>\n",
              "      <td>12</td>\n",
              "      <td>23.0</td>\n",
              "      <td>165.78</td>\n",
              "      <td>1.02</td>\n",
              "      <td>108</td>\n",
              "    </tr>\n",
              "    <tr>\n",
              "      <th>3</th>\n",
              "      <td>3</td>\n",
              "      <td>4</td>\n",
              "      <td>0</td>\n",
              "      <td>0</td>\n",
              "      <td>5.100</td>\n",
              "      <td>547</td>\n",
              "      <td>0</td>\n",
              "      <td>0.0</td>\n",
              "      <td>221.04</td>\n",
              "      <td>1.05</td>\n",
              "      <td>72</td>\n",
              "    </tr>\n",
              "    <tr>\n",
              "      <th>4</th>\n",
              "      <td>4</td>\n",
              "      <td>5</td>\n",
              "      <td>0</td>\n",
              "      <td>0</td>\n",
              "      <td>0.000</td>\n",
              "      <td>547</td>\n",
              "      <td>0</td>\n",
              "      <td>0.0</td>\n",
              "      <td>0.00</td>\n",
              "      <td>0.00</td>\n",
              "      <td>0</td>\n",
              "    </tr>\n",
              "  </tbody>\n",
              "</table>\n",
              "</div>\n",
              "      <button class=\"colab-df-convert\" onclick=\"convertToInteractive('df-cbf1458f-f476-4509-a28b-0a446fa93312')\"\n",
              "              title=\"Convert this dataframe to an interactive table.\"\n",
              "              style=\"display:none;\">\n",
              "        \n",
              "  <svg xmlns=\"http://www.w3.org/2000/svg\" height=\"24px\"viewBox=\"0 0 24 24\"\n",
              "       width=\"24px\">\n",
              "    <path d=\"M0 0h24v24H0V0z\" fill=\"none\"/>\n",
              "    <path d=\"M18.56 5.44l.94 2.06.94-2.06 2.06-.94-2.06-.94-.94-2.06-.94 2.06-2.06.94zm-11 1L8.5 8.5l.94-2.06 2.06-.94-2.06-.94L8.5 2.5l-.94 2.06-2.06.94zm10 10l.94 2.06.94-2.06 2.06-.94-2.06-.94-.94-2.06-.94 2.06-2.06.94z\"/><path d=\"M17.41 7.96l-1.37-1.37c-.4-.4-.92-.59-1.43-.59-.52 0-1.04.2-1.43.59L10.3 9.45l-7.72 7.72c-.78.78-.78 2.05 0 2.83L4 21.41c.39.39.9.59 1.41.59.51 0 1.02-.2 1.41-.59l7.78-7.78 2.81-2.81c.8-.78.8-2.07 0-2.86zM5.41 20L4 18.59l7.72-7.72 1.47 1.35L5.41 20z\"/>\n",
              "  </svg>\n",
              "      </button>\n",
              "      \n",
              "  <style>\n",
              "    .colab-df-container {\n",
              "      display:flex;\n",
              "      flex-wrap:wrap;\n",
              "      gap: 12px;\n",
              "    }\n",
              "\n",
              "    .colab-df-convert {\n",
              "      background-color: #E8F0FE;\n",
              "      border: none;\n",
              "      border-radius: 50%;\n",
              "      cursor: pointer;\n",
              "      display: none;\n",
              "      fill: #1967D2;\n",
              "      height: 32px;\n",
              "      padding: 0 0 0 0;\n",
              "      width: 32px;\n",
              "    }\n",
              "\n",
              "    .colab-df-convert:hover {\n",
              "      background-color: #E2EBFA;\n",
              "      box-shadow: 0px 1px 2px rgba(60, 64, 67, 0.3), 0px 1px 3px 1px rgba(60, 64, 67, 0.15);\n",
              "      fill: #174EA6;\n",
              "    }\n",
              "\n",
              "    [theme=dark] .colab-df-convert {\n",
              "      background-color: #3B4455;\n",
              "      fill: #D2E3FC;\n",
              "    }\n",
              "\n",
              "    [theme=dark] .colab-df-convert:hover {\n",
              "      background-color: #434B5C;\n",
              "      box-shadow: 0px 1px 3px 1px rgba(0, 0, 0, 0.15);\n",
              "      filter: drop-shadow(0px 1px 2px rgba(0, 0, 0, 0.3));\n",
              "      fill: #FFFFFF;\n",
              "    }\n",
              "  </style>\n",
              "\n",
              "      <script>\n",
              "        const buttonEl =\n",
              "          document.querySelector('#df-cbf1458f-f476-4509-a28b-0a446fa93312 button.colab-df-convert');\n",
              "        buttonEl.style.display =\n",
              "          google.colab.kernel.accessAllowed ? 'block' : 'none';\n",
              "\n",
              "        async function convertToInteractive(key) {\n",
              "          const element = document.querySelector('#df-cbf1458f-f476-4509-a28b-0a446fa93312');\n",
              "          const dataTable =\n",
              "            await google.colab.kernel.invokeFunction('convertToInteractive',\n",
              "                                                     [key], {});\n",
              "          if (!dataTable) return;\n",
              "\n",
              "          const docLinkHtml = 'Like what you see? Visit the ' +\n",
              "            '<a target=\"_blank\" href=https://colab.research.google.com/notebooks/data_table.ipynb>data table notebook</a>'\n",
              "            + ' to learn more about interactive tables.';\n",
              "          element.innerHTML = '';\n",
              "          dataTable['output_type'] = 'display_data';\n",
              "          await google.colab.output.renderOutput(dataTable, element);\n",
              "          const docLink = document.createElement('div');\n",
              "          docLink.innerHTML = docLinkHtml;\n",
              "          element.appendChild(docLink);\n",
              "        }\n",
              "      </script>\n",
              "    </div>\n",
              "  </div>\n",
              "  "
            ]
          },
          "metadata": {},
          "execution_count": 882
        }
      ],
      "source": [
        "df = pd.read_csv(\"https://raw.githubusercontent.com/Nitipatel1604/Stock/main/dataset.csv\")\n",
        "df.head()"
      ]
    },
    {
      "cell_type": "code",
      "source": [
        "#Exploratory Data Analysis\n",
        "df.hist(bins = 30 , layout = (4,4), figsize = (40,30)  ,column = df.columns[0:], color= \"DarkCyan\", grid = False)\n",
        "plt.show()"
      ],
      "metadata": {
        "colab": {
          "base_uri": "https://localhost:8080/",
          "height": 769
        },
        "id": "ydZN2wVORdF6",
        "outputId": "e8ac0ee5-32ac-405a-a889-c70b5965e0b2"
      },
      "execution_count": 883,
      "outputs": [
        {
          "output_type": "display_data",
          "data": {
            "text/plain": [
              "<Figure size 2880x2160 with 16 Axes>"
            ],
            "image/png": "[encoded data removed]"
          },
          "metadata": {
            "needs_background": "light"
          }
        }
      ]
    },
    {
      "cell_type": "code",
      "source": [
        "#Co-relation of all columns\n",
        "import seaborn as sns\n",
        "df_corr= df.corr()\n",
        "\n",
        "plt.figure(figsize = (14,5))\n",
        "sns.heatmap(round(df_corr,2),annot=True,cmap = 'mako')"
      ],
      "metadata": {
        "colab": {
          "base_uri": "https://localhost:8080/",
          "height": 469
        },
        "id": "9IDXkovDSXD6",
        "outputId": "4be09e6a-5542-4158-a245-e3fcbe3abcc3"
      },
      "execution_count": 884,
      "outputs": [
        {
          "output_type": "execute_result",
          "data": {
            "text/plain": [
              "<matplotlib.axes._subplots.AxesSubplot at 0x7f9745467310>"
            ]
          },
          "metadata": {},
          "execution_count": 884
        },
        {
          "output_type": "display_data",
          "data": {
            "text/plain": [
              "<Figure size 1008x360 with 2 Axes>"
            ],
            "image/png": "[encoded data removed]"
          },
          "metadata": {
            "needs_background": "light"
          }
        }
      ]
    },
    {
      "cell_type": "code",
      "execution_count": 885,
      "metadata": {
        "id": "L0FVSMud4ddz",
        "colab": {
          "base_uri": "https://localhost:8080/",
          "height": 206
        },
        "outputId": "2bd9c0ad-1f01-4357-d5ad-72c637b09787"
      },
      "outputs": [
        {
          "output_type": "execute_result",
          "data": {
            "text/plain": [
              "   Unitprice  Expire date  Number of outbound orders  Total outbound  \\\n",
              "0      0.058          547                          9          2441.0   \n",
              "1      0.954          547                          0             0.0   \n",
              "2      2.385          547                         12            23.0   \n",
              "3      5.100          547                          0             0.0   \n",
              "4      0.000          547                          0             0.0   \n",
              "\n",
              "   Pal grossweight  Pal height  Units per pal  \n",
              "0           105.60        1.56           1920  \n",
              "1           207.68        1.00            384  \n",
              "2           165.78        1.02            108  \n",
              "3           221.04        1.05             72  \n",
              "4             0.00        0.00              0  "
            ],
            "text/html": [
              "\n",
              "  <div id=\"df-cd76dbcf-6e31-4eb4-8f3a-48e7e490804a\">\n",
              "    <div class=\"colab-df-container\">\n",
              "      <div>\n",
              "<style scoped>\n",
              "    .dataframe tbody tr th:only-of-type {\n",
              "        vertical-align: middle;\n",
              "    }\n",
              "\n",
              "    .dataframe tbody tr th {\n",
              "        vertical-align: top;\n",
              "    }\n",
              "\n",
              "    .dataframe thead th {\n",
              "        text-align: right;\n",
              "    }\n",
              "</style>\n",
              "<table border=\"1\" class=\"dataframe\">\n",
              "  <thead>\n",
              "    <tr style=\"text-align: right;\">\n",
              "      <th></th>\n",
              "      <th>Unitprice</th>\n",
              "      <th>Expire date</th>\n",
              "      <th>Number of outbound orders</th>\n",
              "      <th>Total outbound</th>\n",
              "      <th>Pal grossweight</th>\n",
              "      <th>Pal height</th>\n",
              "      <th>Units per pal</th>\n",
              "    </tr>\n",
              "  </thead>\n",
              "  <tbody>\n",
              "    <tr>\n",
              "      <th>0</th>\n",
              "      <td>0.058</td>\n",
              "      <td>547</td>\n",
              "      <td>9</td>\n",
              "      <td>2441.0</td>\n",
              "      <td>105.60</td>\n",
              "      <td>1.56</td>\n",
              "      <td>1920</td>\n",
              "    </tr>\n",
              "    <tr>\n",
              "      <th>1</th>\n",
              "      <td>0.954</td>\n",
              "      <td>547</td>\n",
              "      <td>0</td>\n",
              "      <td>0.0</td>\n",
              "      <td>207.68</td>\n",
              "      <td>1.00</td>\n",
              "      <td>384</td>\n",
              "    </tr>\n",
              "    <tr>\n",
              "      <th>2</th>\n",
              "      <td>2.385</td>\n",
              "      <td>547</td>\n",
              "      <td>12</td>\n",
              "      <td>23.0</td>\n",
              "      <td>165.78</td>\n",
              "      <td>1.02</td>\n",
              "      <td>108</td>\n",
              "    </tr>\n",
              "    <tr>\n",
              "      <th>3</th>\n",
              "      <td>5.100</td>\n",
              "      <td>547</td>\n",
              "      <td>0</td>\n",
              "      <td>0.0</td>\n",
              "      <td>221.04</td>\n",
              "      <td>1.05</td>\n",
              "      <td>72</td>\n",
              "    </tr>\n",
              "    <tr>\n",
              "      <th>4</th>\n",
              "      <td>0.000</td>\n",
              "      <td>547</td>\n",
              "      <td>0</td>\n",
              "      <td>0.0</td>\n",
              "      <td>0.00</td>\n",
              "      <td>0.00</td>\n",
              "      <td>0</td>\n",
              "    </tr>\n",
              "  </tbody>\n",
              "</table>\n",
              "</div>\n",
              "      <button class=\"colab-df-convert\" onclick=\"convertToInteractive('df-cd76dbcf-6e31-4eb4-8f3a-48e7e490804a')\"\n",
              "              title=\"Convert this dataframe to an interactive table.\"\n",
              "              style=\"display:none;\">\n",
              "        \n",
              "  <svg xmlns=\"http://www.w3.org/2000/svg\" height=\"24px\"viewBox=\"0 0 24 24\"\n",
              "       width=\"24px\">\n",
              "    <path d=\"M0 0h24v24H0V0z\" fill=\"none\"/>\n",
              "    <path d=\"M18.56 5.44l.94 2.06.94-2.06 2.06-.94-2.06-.94-.94-2.06-.94 2.06-2.06.94zm-11 1L8.5 8.5l.94-2.06 2.06-.94-2.06-.94L8.5 2.5l-.94 2.06-2.06.94zm10 10l.94 2.06.94-2.06 2.06-.94-2.06-.94-.94-2.06-.94 2.06-2.06.94z\"/><path d=\"M17.41 7.96l-1.37-1.37c-.4-.4-.92-.59-1.43-.59-.52 0-1.04.2-1.43.59L10.3 9.45l-7.72 7.72c-.78.78-.78 2.05 0 2.83L4 21.41c.39.39.9.59 1.41.59.51 0 1.02-.2 1.41-.59l7.78-7.78 2.81-2.81c.8-.78.8-2.07 0-2.86zM5.41 20L4 18.59l7.72-7.72 1.47 1.35L5.41 20z\"/>\n",
              "  </svg>\n",
              "      </button>\n",
              "      \n",
              "  <style>\n",
              "    .colab-df-container {\n",
              "      display:flex;\n",
              "      flex-wrap:wrap;\n",
              "      gap: 12px;\n",
              "    }\n",
              "\n",
              "    .colab-df-convert {\n",
              "      background-color: #E8F0FE;\n",
              "      border: none;\n",
              "      border-radius: 50%;\n",
              "      cursor: pointer;\n",
              "      display: none;\n",
              "      fill: #1967D2;\n",
              "      height: 32px;\n",
              "      padding: 0 0 0 0;\n",
              "      width: 32px;\n",
              "    }\n",
              "\n",
              "    .colab-df-convert:hover {\n",
              "      background-color: #E2EBFA;\n",
              "      box-shadow: 0px 1px 2px rgba(60, 64, 67, 0.3), 0px 1px 3px 1px rgba(60, 64, 67, 0.15);\n",
              "      fill: #174EA6;\n",
              "    }\n",
              "\n",
              "    [theme=dark] .colab-df-convert {\n",
              "      background-color: #3B4455;\n",
              "      fill: #D2E3FC;\n",
              "    }\n",
              "\n",
              "    [theme=dark] .colab-df-convert:hover {\n",
              "      background-color: #434B5C;\n",
              "      box-shadow: 0px 1px 3px 1px rgba(0, 0, 0, 0.15);\n",
              "      filter: drop-shadow(0px 1px 2px rgba(0, 0, 0, 0.3));\n",
              "      fill: #FFFFFF;\n",
              "    }\n",
              "  </style>\n",
              "\n",
              "      <script>\n",
              "        const buttonEl =\n",
              "          document.querySelector('#df-cd76dbcf-6e31-4eb4-8f3a-48e7e490804a button.colab-df-convert');\n",
              "        buttonEl.style.display =\n",
              "          google.colab.kernel.accessAllowed ? 'block' : 'none';\n",
              "\n",
              "        async function convertToInteractive(key) {\n",
              "          const element = document.querySelector('#df-cd76dbcf-6e31-4eb4-8f3a-48e7e490804a');\n",
              "          const dataTable =\n",
              "            await google.colab.kernel.invokeFunction('convertToInteractive',\n",
              "                                                     [key], {});\n",
              "          if (!dataTable) return;\n",
              "\n",
              "          const docLinkHtml = 'Like what you see? Visit the ' +\n",
              "            '<a target=\"_blank\" href=https://colab.research.google.com/notebooks/data_table.ipynb>data table notebook</a>'\n",
              "            + ' to learn more about interactive tables.';\n",
              "          element.innerHTML = '';\n",
              "          dataTable['output_type'] = 'display_data';\n",
              "          await google.colab.output.renderOutput(dataTable, element);\n",
              "          const docLink = document.createElement('div');\n",
              "          docLink.innerHTML = docLinkHtml;\n",
              "          element.appendChild(docLink);\n",
              "        }\n",
              "      </script>\n",
              "    </div>\n",
              "  </div>\n",
              "  "
            ]
          },
          "metadata": {},
          "execution_count": 885
        }
      ],
      "source": [
        "df.drop(['Unnamed: 0', 'ID', 'Tradability', 'Init status'], axis=1, inplace=True)\n",
        "df.head()\n"
      ]
    },
    {
      "cell_type": "code",
      "execution_count": 886,
      "metadata": {
        "id": "8LaN70wrr4K9",
        "colab": {
          "base_uri": "https://localhost:8080/",
          "height": 206
        },
        "outputId": "4470a195-a622-409d-e39a-8282fab508ad"
      },
      "outputs": [
        {
          "output_type": "execute_result",
          "data": {
            "text/plain": [
              "   Unitprice  Expire date  Number of outbound orders  Total outbound  \\\n",
              "0      0.058        547.0                        9.0          2441.0   \n",
              "1      0.954        547.0                        NaN             NaN   \n",
              "2      2.385        547.0                       12.0            23.0   \n",
              "3      5.100        547.0                        NaN             NaN   \n",
              "4        NaN        547.0                        NaN             NaN   \n",
              "\n",
              "   Pal grossweight  Pal height  Units per pal  \n",
              "0           105.60        1.56         1920.0  \n",
              "1           207.68        1.00          384.0  \n",
              "2           165.78        1.02          108.0  \n",
              "3           221.04        1.05           72.0  \n",
              "4              NaN         NaN            NaN  "
            ],
            "text/html": [
              "\n",
              "  <div id=\"df-8bcada72-d920-4b02-9440-872693fe9738\">\n",
              "    <div class=\"colab-df-container\">\n",
              "      <div>\n",
              "<style scoped>\n",
              "    .dataframe tbody tr th:only-of-type {\n",
              "        vertical-align: middle;\n",
              "    }\n",
              "\n",
              "    .dataframe tbody tr th {\n",
              "        vertical-align: top;\n",
              "    }\n",
              "\n",
              "    .dataframe thead th {\n",
              "        text-align: right;\n",
              "    }\n",
              "</style>\n",
              "<table border=\"1\" class=\"dataframe\">\n",
              "  <thead>\n",
              "    <tr style=\"text-align: right;\">\n",
              "      <th></th>\n",
              "      <th>Unitprice</th>\n",
              "      <th>Expire date</th>\n",
              "      <th>Number of outbound orders</th>\n",
              "      <th>Total outbound</th>\n",
              "      <th>Pal grossweight</th>\n",
              "      <th>Pal height</th>\n",
              "      <th>Units per pal</th>\n",
              "    </tr>\n",
              "  </thead>\n",
              "  <tbody>\n",
              "    <tr>\n",
              "      <th>0</th>\n",
              "      <td>0.058</td>\n",
              "      <td>547.0</td>\n",
              "      <td>9.0</td>\n",
              "      <td>2441.0</td>\n",
              "      <td>105.60</td>\n",
              "      <td>1.56</td>\n",
              "      <td>1920.0</td>\n",
              "    </tr>\n",
              "    <tr>\n",
              "      <th>1</th>\n",
              "      <td>0.954</td>\n",
              "      <td>547.0</td>\n",
              "      <td>NaN</td>\n",
              "      <td>NaN</td>\n",
              "      <td>207.68</td>\n",
              "      <td>1.00</td>\n",
              "      <td>384.0</td>\n",
              "    </tr>\n",
              "    <tr>\n",
              "      <th>2</th>\n",
              "      <td>2.385</td>\n",
              "      <td>547.0</td>\n",
              "      <td>12.0</td>\n",
              "      <td>23.0</td>\n",
              "      <td>165.78</td>\n",
              "      <td>1.02</td>\n",
              "      <td>108.0</td>\n",
              "    </tr>\n",
              "    <tr>\n",
              "      <th>3</th>\n",
              "      <td>5.100</td>\n",
              "      <td>547.0</td>\n",
              "      <td>NaN</td>\n",
              "      <td>NaN</td>\n",
              "      <td>221.04</td>\n",
              "      <td>1.05</td>\n",
              "      <td>72.0</td>\n",
              "    </tr>\n",
              "    <tr>\n",
              "      <th>4</th>\n",
              "      <td>NaN</td>\n",
              "      <td>547.0</td>\n",
              "      <td>NaN</td>\n",
              "      <td>NaN</td>\n",
              "      <td>NaN</td>\n",
              "      <td>NaN</td>\n",
              "      <td>NaN</td>\n",
              "    </tr>\n",
              "  </tbody>\n",
              "</table>\n",
              "</div>\n",
              "      <button class=\"colab-df-convert\" onclick=\"convertToInteractive('df-8bcada72-d920-4b02-9440-872693fe9738')\"\n",
              "              title=\"Convert this dataframe to an interactive table.\"\n",
              "              style=\"display:none;\">\n",
              "        \n",
              "  <svg xmlns=\"http://www.w3.org/2000/svg\" height=\"24px\"viewBox=\"0 0 24 24\"\n",
              "       width=\"24px\">\n",
              "    <path d=\"M0 0h24v24H0V0z\" fill=\"none\"/>\n",
              "    <path d=\"M18.56 5.44l.94 2.06.94-2.06 2.06-.94-2.06-.94-.94-2.06-.94 2.06-2.06.94zm-11 1L8.5 8.5l.94-2.06 2.06-.94-2.06-.94L8.5 2.5l-.94 2.06-2.06.94zm10 10l.94 2.06.94-2.06 2.06-.94-2.06-.94-.94-2.06-.94 2.06-2.06.94z\"/><path d=\"M17.41 7.96l-1.37-1.37c-.4-.4-.92-.59-1.43-.59-.52 0-1.04.2-1.43.59L10.3 9.45l-7.72 7.72c-.78.78-.78 2.05 0 2.83L4 21.41c.39.39.9.59 1.41.59.51 0 1.02-.2 1.41-.59l7.78-7.78 2.81-2.81c.8-.78.8-2.07 0-2.86zM5.41 20L4 18.59l7.72-7.72 1.47 1.35L5.41 20z\"/>\n",
              "  </svg>\n",
              "      </button>\n",
              "      \n",
              "  <style>\n",
              "    .colab-df-container {\n",
              "      display:flex;\n",
              "      flex-wrap:wrap;\n",
              "      gap: 12px;\n",
              "    }\n",
              "\n",
              "    .colab-df-convert {\n",
              "      background-color: #E8F0FE;\n",
              "      border: none;\n",
              "      border-radius: 50%;\n",
              "      cursor: pointer;\n",
              "      display: none;\n",
              "      fill: #1967D2;\n",
              "      height: 32px;\n",
              "      padding: 0 0 0 0;\n",
              "      width: 32px;\n",
              "    }\n",
              "\n",
              "    .colab-df-convert:hover {\n",
              "      background-color: #E2EBFA;\n",
              "      box-shadow: 0px 1px 2px rgba(60, 64, 67, 0.3), 0px 1px 3px 1px rgba(60, 64, 67, 0.15);\n",
              "      fill: #174EA6;\n",
              "    }\n",
              "\n",
              "    [theme=dark] .colab-df-convert {\n",
              "      background-color: #3B4455;\n",
              "      fill: #D2E3FC;\n",
              "    }\n",
              "\n",
              "    [theme=dark] .colab-df-convert:hover {\n",
              "      background-color: #434B5C;\n",
              "      box-shadow: 0px 1px 3px 1px rgba(0, 0, 0, 0.15);\n",
              "      filter: drop-shadow(0px 1px 2px rgba(0, 0, 0, 0.3));\n",
              "      fill: #FFFFFF;\n",
              "    }\n",
              "  </style>\n",
              "\n",
              "      <script>\n",
              "        const buttonEl =\n",
              "          document.querySelector('#df-8bcada72-d920-4b02-9440-872693fe9738 button.colab-df-convert');\n",
              "        buttonEl.style.display =\n",
              "          google.colab.kernel.accessAllowed ? 'block' : 'none';\n",
              "\n",
              "        async function convertToInteractive(key) {\n",
              "          const element = document.querySelector('#df-8bcada72-d920-4b02-9440-872693fe9738');\n",
              "          const dataTable =\n",
              "            await google.colab.kernel.invokeFunction('convertToInteractive',\n",
              "                                                     [key], {});\n",
              "          if (!dataTable) return;\n",
              "\n",
              "          const docLinkHtml = 'Like what you see? Visit the ' +\n",
              "            '<a target=\"_blank\" href=https://colab.research.google.com/notebooks/data_table.ipynb>data table notebook</a>'\n",
              "            + ' to learn more about interactive tables.';\n",
              "          element.innerHTML = '';\n",
              "          dataTable['output_type'] = 'display_data';\n",
              "          await google.colab.output.renderOutput(dataTable, element);\n",
              "          const docLink = document.createElement('div');\n",
              "          docLink.innerHTML = docLinkHtml;\n",
              "          element.appendChild(docLink);\n",
              "        }\n",
              "      </script>\n",
              "    </div>\n",
              "  </div>\n",
              "  "
            ]
          },
          "metadata": {},
          "execution_count": 886
        }
      ],
      "source": [
        "#finding missing values \n",
        "df.replace(0,np.nan, inplace=True) \n",
        "df.head()"
      ]
    },
    {
      "cell_type": "code",
      "execution_count": 887,
      "metadata": {
        "colab": {
          "base_uri": "https://localhost:8080/"
        },
        "id": "5q46VYS69Eab",
        "outputId": "bca86f2c-2ed1-41e3-8db5-444ed75bfa5b"
      },
      "outputs": [
        {
          "output_type": "stream",
          "name": "stdout",
          "text": [
            "Number of missing values in Unitprice: 710\n",
            "Number of missing values in Pal Grossweight: 371\n",
            "Number of missing values in Pal Height: 787\n",
            "Number of missing values in Units per pal: 295\n"
          ]
        }
      ],
      "source": [
        "countUP= df['Unitprice'].isnull().sum()\n",
        "countPG= df['Pal grossweight'].isnull().sum()\n",
        "countPH= df['Pal height'].isnull().sum()\n",
        "countUPP= df['Units per pal'].isnull().sum()\n",
        "\n",
        "print(\"Number of missing values in Unitprice:\" ,countUP)\n",
        "print(\"Number of missing values in Pal Grossweight:\",countPG)\n",
        "print(\"Number of missing values in Pal Height:\",countPH)\n",
        "print(\"Number of missing values in Units per pal:\",countUPP)\n"
      ]
    },
    {
      "cell_type": "code",
      "execution_count": 888,
      "metadata": {
        "colab": {
          "base_uri": "https://localhost:8080/",
          "height": 499
        },
        "id": "4FzDtcGlBIvu",
        "outputId": "5ebbe479-17d7-436d-8fb4-c681c5298fb9"
      },
      "outputs": [
        {
          "output_type": "display_data",
          "data": {
            "text/plain": [
              "<Figure size 576x576 with 1 Axes>"
            ],
            "image/png": "[encoded data removed]"
          },
          "metadata": {
            "needs_background": "light"
          }
        }
      ],
      "source": [
        "data = pd.DataFrame({'lab':['Unitprice', 'Pal grossweight', 'Pal height','Units per pal' ], 'val':[countUP, countPG, countPH, countUPP]})\n",
        "percentage = []\n",
        "\n",
        "for i in range(data.shape[0]):\n",
        "    total=len(df)\n",
        "    pct = (data.val[i] / total) * 100\n",
        "    percentage.append(round(pct,2))\n",
        "data['Percentage'] = percentage\n",
        "\n",
        "plt.figure(figsize=(8,8))\n",
        "colors_list = ['Red','Orange', 'Purple', 'green']\n",
        "graph = plt.bar(data.lab,data.val, color = colors_list)\n",
        "plt.title('Percentage of missing values in columns')\n",
        "\n",
        "i = 0\n",
        "for p in graph:\n",
        "    width = p.get_width()\n",
        "    height = p.get_height()\n",
        "    x, y = p.get_xy()\n",
        "    plt.text(x+width/2,\n",
        "             y+height*1.01,\n",
        "             str(data.Percentage[i])+'%',\n",
        "             ha='center',\n",
        "             weight='bold')\n",
        "    i+=1\n",
        "plt.show()"
      ]
    },
    {
      "cell_type": "code",
      "execution_count": 889,
      "metadata": {
        "colab": {
          "base_uri": "https://localhost:8080/",
          "height": 279
        },
        "id": "vQ312-rK8ia0",
        "outputId": "d5833e87-e1ca-4c59-cfd1-e7f4b3cc834e"
      },
      "outputs": [
        {
          "output_type": "display_data",
          "data": {
            "text/plain": [
              "<Figure size 432x288 with 1 Axes>"
            ],
            "image/png": "[encoded data removed]"
          },
          "metadata": {
            "needs_background": "light"
          }
        }
      ],
      "source": [
        "value1 = df[['Unitprice','Pal grossweight', 'Pal height','Units per pal']].isnull().values.any(axis=1).sum()\n",
        "value1\n",
        "value2 = df[['Unitprice','Pal grossweight', 'Pal height','Units per pal']].isnull().values.all(axis=1).sum()\n",
        "value2\n",
        "\n",
        "data = pd.DataFrame({'lab':['Atleast 1 missing value', 'All missing values'], 'val':[value1, value2]})\n",
        "ax = data.plot.bar(x='lab', y='val', rot=0)"
      ]
    },
    {
      "cell_type": "code",
      "execution_count": 890,
      "metadata": {
        "colab": {
          "base_uri": "https://localhost:8080/"
        },
        "id": "8NYUP3OY0bjZ",
        "outputId": "e515e533-4048-4c05-a7dd-31eb01afc1cc"
      },
      "outputs": [
        {
          "output_type": "execute_result",
          "data": {
            "text/plain": [
              "Unitprice                    True\n",
              "Expire date                  True\n",
              "Number of outbound orders    True\n",
              "Total outbound               True\n",
              "Pal grossweight              True\n",
              "Pal height                   True\n",
              "Units per pal                True\n",
              "dtype: bool"
            ]
          },
          "metadata": {},
          "execution_count": 890
        }
      ],
      "source": [
        "df.isna().any()"
      ]
    },
    {
      "cell_type": "code",
      "execution_count": 891,
      "metadata": {
        "id": "G00spca6n4oN",
        "colab": {
          "base_uri": "https://localhost:8080/",
          "height": 206
        },
        "outputId": "91556e68-d8b1-487c-a331-9d9f8a0a6d5c"
      },
      "outputs": [
        {
          "output_type": "execute_result",
          "data": {
            "text/plain": [
              "   Unitprice  Expire date  Number of outbound orders  Total outbound  \\\n",
              "0     0.0580        547.0                        9.0          2441.0   \n",
              "1     0.9540        547.0                      811.4          1806.1   \n",
              "2     2.3850        547.0                       12.0            23.0   \n",
              "3     5.1000        547.0                      157.0           266.5   \n",
              "4     0.9042        547.0                     1222.8          3442.5   \n",
              "\n",
              "   Pal grossweight  Pal height  Units per pal  \n",
              "0          105.600        1.56         1920.0  \n",
              "1          207.680        1.00          384.0  \n",
              "2          165.780        1.02          108.0  \n",
              "3          221.040        1.05           72.0  \n",
              "4          245.632        0.94          384.0  "
            ],
            "text/html": [
              "\n",
              "  <div id=\"df-24f78b85-0920-4a7c-bc89-5f6150627561\">\n",
              "    <div class=\"colab-df-container\">\n",
              "      <div>\n",
              "<style scoped>\n",
              "    .dataframe tbody tr th:only-of-type {\n",
              "        vertical-align: middle;\n",
              "    }\n",
              "\n",
              "    .dataframe tbody tr th {\n",
              "        vertical-align: top;\n",
              "    }\n",
              "\n",
              "    .dataframe thead th {\n",
              "        text-align: right;\n",
              "    }\n",
              "</style>\n",
              "<table border=\"1\" class=\"dataframe\">\n",
              "  <thead>\n",
              "    <tr style=\"text-align: right;\">\n",
              "      <th></th>\n",
              "      <th>Unitprice</th>\n",
              "      <th>Expire date</th>\n",
              "      <th>Number of outbound orders</th>\n",
              "      <th>Total outbound</th>\n",
              "      <th>Pal grossweight</th>\n",
              "      <th>Pal height</th>\n",
              "      <th>Units per pal</th>\n",
              "    </tr>\n",
              "  </thead>\n",
              "  <tbody>\n",
              "    <tr>\n",
              "      <th>0</th>\n",
              "      <td>0.0580</td>\n",
              "      <td>547.0</td>\n",
              "      <td>9.0</td>\n",
              "      <td>2441.0</td>\n",
              "      <td>105.600</td>\n",
              "      <td>1.56</td>\n",
              "      <td>1920.0</td>\n",
              "    </tr>\n",
              "    <tr>\n",
              "      <th>1</th>\n",
              "      <td>0.9540</td>\n",
              "      <td>547.0</td>\n",
              "      <td>811.4</td>\n",
              "      <td>1806.1</td>\n",
              "      <td>207.680</td>\n",
              "      <td>1.00</td>\n",
              "      <td>384.0</td>\n",
              "    </tr>\n",
              "    <tr>\n",
              "      <th>2</th>\n",
              "      <td>2.3850</td>\n",
              "      <td>547.0</td>\n",
              "      <td>12.0</td>\n",
              "      <td>23.0</td>\n",
              "      <td>165.780</td>\n",
              "      <td>1.02</td>\n",
              "      <td>108.0</td>\n",
              "    </tr>\n",
              "    <tr>\n",
              "      <th>3</th>\n",
              "      <td>5.1000</td>\n",
              "      <td>547.0</td>\n",
              "      <td>157.0</td>\n",
              "      <td>266.5</td>\n",
              "      <td>221.040</td>\n",
              "      <td>1.05</td>\n",
              "      <td>72.0</td>\n",
              "    </tr>\n",
              "    <tr>\n",
              "      <th>4</th>\n",
              "      <td>0.9042</td>\n",
              "      <td>547.0</td>\n",
              "      <td>1222.8</td>\n",
              "      <td>3442.5</td>\n",
              "      <td>245.632</td>\n",
              "      <td>0.94</td>\n",
              "      <td>384.0</td>\n",
              "    </tr>\n",
              "  </tbody>\n",
              "</table>\n",
              "</div>\n",
              "      <button class=\"colab-df-convert\" onclick=\"convertToInteractive('df-24f78b85-0920-4a7c-bc89-5f6150627561')\"\n",
              "              title=\"Convert this dataframe to an interactive table.\"\n",
              "              style=\"display:none;\">\n",
              "        \n",
              "  <svg xmlns=\"http://www.w3.org/2000/svg\" height=\"24px\"viewBox=\"0 0 24 24\"\n",
              "       width=\"24px\">\n",
              "    <path d=\"M0 0h24v24H0V0z\" fill=\"none\"/>\n",
              "    <path d=\"M18.56 5.44l.94 2.06.94-2.06 2.06-.94-2.06-.94-.94-2.06-.94 2.06-2.06.94zm-11 1L8.5 8.5l.94-2.06 2.06-.94-2.06-.94L8.5 2.5l-.94 2.06-2.06.94zm10 10l.94 2.06.94-2.06 2.06-.94-2.06-.94-.94-2.06-.94 2.06-2.06.94z\"/><path d=\"M17.41 7.96l-1.37-1.37c-.4-.4-.92-.59-1.43-.59-.52 0-1.04.2-1.43.59L10.3 9.45l-7.72 7.72c-.78.78-.78 2.05 0 2.83L4 21.41c.39.39.9.59 1.41.59.51 0 1.02-.2 1.41-.59l7.78-7.78 2.81-2.81c.8-.78.8-2.07 0-2.86zM5.41 20L4 18.59l7.72-7.72 1.47 1.35L5.41 20z\"/>\n",
              "  </svg>\n",
              "      </button>\n",
              "      \n",
              "  <style>\n",
              "    .colab-df-container {\n",
              "      display:flex;\n",
              "      flex-wrap:wrap;\n",
              "      gap: 12px;\n",
              "    }\n",
              "\n",
              "    .colab-df-convert {\n",
              "      background-color: #E8F0FE;\n",
              "      border: none;\n",
              "      border-radius: 50%;\n",
              "      cursor: pointer;\n",
              "      display: none;\n",
              "      fill: #1967D2;\n",
              "      height: 32px;\n",
              "      padding: 0 0 0 0;\n",
              "      width: 32px;\n",
              "    }\n",
              "\n",
              "    .colab-df-convert:hover {\n",
              "      background-color: #E2EBFA;\n",
              "      box-shadow: 0px 1px 2px rgba(60, 64, 67, 0.3), 0px 1px 3px 1px rgba(60, 64, 67, 0.15);\n",
              "      fill: #174EA6;\n",
              "    }\n",
              "\n",
              "    [theme=dark] .colab-df-convert {\n",
              "      background-color: #3B4455;\n",
              "      fill: #D2E3FC;\n",
              "    }\n",
              "\n",
              "    [theme=dark] .colab-df-convert:hover {\n",
              "      background-color: #434B5C;\n",
              "      box-shadow: 0px 1px 3px 1px rgba(0, 0, 0, 0.15);\n",
              "      filter: drop-shadow(0px 1px 2px rgba(0, 0, 0, 0.3));\n",
              "      fill: #FFFFFF;\n",
              "    }\n",
              "  </style>\n",
              "\n",
              "      <script>\n",
              "        const buttonEl =\n",
              "          document.querySelector('#df-24f78b85-0920-4a7c-bc89-5f6150627561 button.colab-df-convert');\n",
              "        buttonEl.style.display =\n",
              "          google.colab.kernel.accessAllowed ? 'block' : 'none';\n",
              "\n",
              "        async function convertToInteractive(key) {\n",
              "          const element = document.querySelector('#df-24f78b85-0920-4a7c-bc89-5f6150627561');\n",
              "          const dataTable =\n",
              "            await google.colab.kernel.invokeFunction('convertToInteractive',\n",
              "                                                     [key], {});\n",
              "          if (!dataTable) return;\n",
              "\n",
              "          const docLinkHtml = 'Like what you see? Visit the ' +\n",
              "            '<a target=\"_blank\" href=https://colab.research.google.com/notebooks/data_table.ipynb>data table notebook</a>'\n",
              "            + ' to learn more about interactive tables.';\n",
              "          element.innerHTML = '';\n",
              "          dataTable['output_type'] = 'display_data';\n",
              "          await google.colab.output.renderOutput(dataTable, element);\n",
              "          const docLink = document.createElement('div');\n",
              "          docLink.innerHTML = docLinkHtml;\n",
              "          element.appendChild(docLink);\n",
              "        }\n",
              "      </script>\n",
              "    </div>\n",
              "  </div>\n",
              "  "
            ]
          },
          "metadata": {},
          "execution_count": 891
        }
      ],
      "source": [
        "#K-NNI imputation\n",
        "from sklearn.impute import KNNImputer\n",
        "imputer = KNNImputer(n_neighbors=10)\n",
        "df = pd.DataFrame(imputer.fit_transform(df),columns = df.columns)   \n",
        "df.head() "
      ]
    },
    {
      "cell_type": "code",
      "execution_count": 892,
      "metadata": {
        "colab": {
          "base_uri": "https://localhost:8080/"
        },
        "id": "eZQmwgMasTRr",
        "outputId": "15133252-4de7-48f9-9645-a94b7750f8ed"
      },
      "outputs": [
        {
          "output_type": "execute_result",
          "data": {
            "text/plain": [
              "Unitprice                    False\n",
              "Expire date                  False\n",
              "Number of outbound orders    False\n",
              "Total outbound               False\n",
              "Pal grossweight              False\n",
              "Pal height                   False\n",
              "Units per pal                False\n",
              "dtype: bool"
            ]
          },
          "metadata": {},
          "execution_count": 892
        }
      ],
      "source": [
        "df.isna().any()"
      ]
    },
    {
      "cell_type": "code",
      "execution_count": 893,
      "metadata": {
        "colab": {
          "base_uri": "https://localhost:8080/",
          "height": 206
        },
        "id": "OWOeZHlTDbRE",
        "outputId": "98dd1cbc-9146-49b5-fb4f-41632ed6c7b6"
      },
      "outputs": [
        {
          "output_type": "execute_result",
          "data": {
            "text/plain": [
              "   Unitprice  Expire date  Number of outbound orders  Total outbound  \\\n",
              "0     0.0580        547.0                        9.0          2441.0   \n",
              "1     0.9540        547.0                      811.4          1806.1   \n",
              "2     2.3850        547.0                       12.0            23.0   \n",
              "3     5.1000        547.0                      157.0           266.5   \n",
              "4     0.9042        547.0                     1222.8          3442.5   \n",
              "\n",
              "   Pal grossweight  Pal height  Units per pal  \n",
              "0          105.600        1.56         1920.0  \n",
              "1          207.680        1.00          384.0  \n",
              "2          165.780        1.02          108.0  \n",
              "3          221.040        1.05           72.0  \n",
              "4          245.632        0.94          384.0  "
            ],
            "text/html": [
              "\n",
              "  <div id=\"df-80de020b-11b6-472a-a59e-07e8d06ec393\">\n",
              "    <div class=\"colab-df-container\">\n",
              "      <div>\n",
              "<style scoped>\n",
              "    .dataframe tbody tr th:only-of-type {\n",
              "        vertical-align: middle;\n",
              "    }\n",
              "\n",
              "    .dataframe tbody tr th {\n",
              "        vertical-align: top;\n",
              "    }\n",
              "\n",
              "    .dataframe thead th {\n",
              "        text-align: right;\n",
              "    }\n",
              "</style>\n",
              "<table border=\"1\" class=\"dataframe\">\n",
              "  <thead>\n",
              "    <tr style=\"text-align: right;\">\n",
              "      <th></th>\n",
              "      <th>Unitprice</th>\n",
              "      <th>Expire date</th>\n",
              "      <th>Number of outbound orders</th>\n",
              "      <th>Total outbound</th>\n",
              "      <th>Pal grossweight</th>\n",
              "      <th>Pal height</th>\n",
              "      <th>Units per pal</th>\n",
              "    </tr>\n",
              "  </thead>\n",
              "  <tbody>\n",
              "    <tr>\n",
              "      <th>0</th>\n",
              "      <td>0.0580</td>\n",
              "      <td>547.0</td>\n",
              "      <td>9.0</td>\n",
              "      <td>2441.0</td>\n",
              "      <td>105.600</td>\n",
              "      <td>1.56</td>\n",
              "      <td>1920.0</td>\n",
              "    </tr>\n",
              "    <tr>\n",
              "      <th>1</th>\n",
              "      <td>0.9540</td>\n",
              "      <td>547.0</td>\n",
              "      <td>811.4</td>\n",
              "      <td>1806.1</td>\n",
              "      <td>207.680</td>\n",
              "      <td>1.00</td>\n",
              "      <td>384.0</td>\n",
              "    </tr>\n",
              "    <tr>\n",
              "      <th>2</th>\n",
              "      <td>2.3850</td>\n",
              "      <td>547.0</td>\n",
              "      <td>12.0</td>\n",
              "      <td>23.0</td>\n",
              "      <td>165.780</td>\n",
              "      <td>1.02</td>\n",
              "      <td>108.0</td>\n",
              "    </tr>\n",
              "    <tr>\n",
              "      <th>3</th>\n",
              "      <td>5.1000</td>\n",
              "      <td>547.0</td>\n",
              "      <td>157.0</td>\n",
              "      <td>266.5</td>\n",
              "      <td>221.040</td>\n",
              "      <td>1.05</td>\n",
              "      <td>72.0</td>\n",
              "    </tr>\n",
              "    <tr>\n",
              "      <th>4</th>\n",
              "      <td>0.9042</td>\n",
              "      <td>547.0</td>\n",
              "      <td>1222.8</td>\n",
              "      <td>3442.5</td>\n",
              "      <td>245.632</td>\n",
              "      <td>0.94</td>\n",
              "      <td>384.0</td>\n",
              "    </tr>\n",
              "  </tbody>\n",
              "</table>\n",
              "</div>\n",
              "      <button class=\"colab-df-convert\" onclick=\"convertToInteractive('df-80de020b-11b6-472a-a59e-07e8d06ec393')\"\n",
              "              title=\"Convert this dataframe to an interactive table.\"\n",
              "              style=\"display:none;\">\n",
              "        \n",
              "  <svg xmlns=\"http://www.w3.org/2000/svg\" height=\"24px\"viewBox=\"0 0 24 24\"\n",
              "       width=\"24px\">\n",
              "    <path d=\"M0 0h24v24H0V0z\" fill=\"none\"/>\n",
              "    <path d=\"M18.56 5.44l.94 2.06.94-2.06 2.06-.94-2.06-.94-.94-2.06-.94 2.06-2.06.94zm-11 1L8.5 8.5l.94-2.06 2.06-.94-2.06-.94L8.5 2.5l-.94 2.06-2.06.94zm10 10l.94 2.06.94-2.06 2.06-.94-2.06-.94-.94-2.06-.94 2.06-2.06.94z\"/><path d=\"M17.41 7.96l-1.37-1.37c-.4-.4-.92-.59-1.43-.59-.52 0-1.04.2-1.43.59L10.3 9.45l-7.72 7.72c-.78.78-.78 2.05 0 2.83L4 21.41c.39.39.9.59 1.41.59.51 0 1.02-.2 1.41-.59l7.78-7.78 2.81-2.81c.8-.78.8-2.07 0-2.86zM5.41 20L4 18.59l7.72-7.72 1.47 1.35L5.41 20z\"/>\n",
              "  </svg>\n",
              "      </button>\n",
              "      \n",
              "  <style>\n",
              "    .colab-df-container {\n",
              "      display:flex;\n",
              "      flex-wrap:wrap;\n",
              "      gap: 12px;\n",
              "    }\n",
              "\n",
              "    .colab-df-convert {\n",
              "      background-color: #E8F0FE;\n",
              "      border: none;\n",
              "      border-radius: 50%;\n",
              "      cursor: pointer;\n",
              "      display: none;\n",
              "      fill: #1967D2;\n",
              "      height: 32px;\n",
              "      padding: 0 0 0 0;\n",
              "      width: 32px;\n",
              "    }\n",
              "\n",
              "    .colab-df-convert:hover {\n",
              "      background-color: #E2EBFA;\n",
              "      box-shadow: 0px 1px 2px rgba(60, 64, 67, 0.3), 0px 1px 3px 1px rgba(60, 64, 67, 0.15);\n",
              "      fill: #174EA6;\n",
              "    }\n",
              "\n",
              "    [theme=dark] .colab-df-convert {\n",
              "      background-color: #3B4455;\n",
              "      fill: #D2E3FC;\n",
              "    }\n",
              "\n",
              "    [theme=dark] .colab-df-convert:hover {\n",
              "      background-color: #434B5C;\n",
              "      box-shadow: 0px 1px 3px 1px rgba(0, 0, 0, 0.15);\n",
              "      filter: drop-shadow(0px 1px 2px rgba(0, 0, 0, 0.3));\n",
              "      fill: #FFFFFF;\n",
              "    }\n",
              "  </style>\n",
              "\n",
              "      <script>\n",
              "        const buttonEl =\n",
              "          document.querySelector('#df-80de020b-11b6-472a-a59e-07e8d06ec393 button.colab-df-convert');\n",
              "        buttonEl.style.display =\n",
              "          google.colab.kernel.accessAllowed ? 'block' : 'none';\n",
              "\n",
              "        async function convertToInteractive(key) {\n",
              "          const element = document.querySelector('#df-80de020b-11b6-472a-a59e-07e8d06ec393');\n",
              "          const dataTable =\n",
              "            await google.colab.kernel.invokeFunction('convertToInteractive',\n",
              "                                                     [key], {});\n",
              "          if (!dataTable) return;\n",
              "\n",
              "          const docLinkHtml = 'Like what you see? Visit the ' +\n",
              "            '<a target=\"_blank\" href=https://colab.research.google.com/notebooks/data_table.ipynb>data table notebook</a>'\n",
              "            + ' to learn more about interactive tables.';\n",
              "          element.innerHTML = '';\n",
              "          dataTable['output_type'] = 'display_data';\n",
              "          await google.colab.output.renderOutput(dataTable, element);\n",
              "          const docLink = document.createElement('div');\n",
              "          docLink.innerHTML = docLinkHtml;\n",
              "          element.appendChild(docLink);\n",
              "        }\n",
              "      </script>\n",
              "    </div>\n",
              "  </div>\n",
              "  "
            ]
          },
          "metadata": {},
          "execution_count": 893
        }
      ],
      "source": [
        "df.head()"
      ]
    },
    {
      "cell_type": "code",
      "source": [
        "from sklearn.preprocessing import StandardScaler\n",
        "sc = StandardScaler()\n",
        "X = sc.fit_transform(df)\n",
        "X"
      ],
      "metadata": {
        "colab": {
          "base_uri": "https://localhost:8080/"
        },
        "id": "xVDqTK55E5y7",
        "outputId": "7cef3e1a-f887-4b0b-9a7d-595861337c29"
      },
      "execution_count": 894,
      "outputs": [
        {
          "output_type": "execute_result",
          "data": {
            "text/plain": [
              "array([[-0.43655667,  0.15153833, -0.54955364, ..., -0.87675278,\n",
              "         1.75976015,  0.17325402],\n",
              "       [-0.3897814 ,  0.15153833,  0.5180578 , ..., -0.20292215,\n",
              "        -0.02650936, -0.07151057],\n",
              "       [-0.31507671,  0.15153833, -0.54556207, ..., -0.47950427,\n",
              "         0.03728598, -0.11549171],\n",
              "       ...,\n",
              "       [ 1.47984834, -1.19764956, -0.55806899, ..., -1.32060438,\n",
              "        -1.58949517, -0.13206431],\n",
              "       [ 3.90173942, -0.61836716, -0.56019782, ..., -1.40806771,\n",
              "        -1.14930733, -0.13222367],\n",
              "       [-0.39536938,  0.15153833, -0.46040862, ..., -0.87675278,\n",
              "         1.52690716,  0.17325402]])"
            ]
          },
          "metadata": {},
          "execution_count": 894
        }
      ]
    },
    {
      "cell_type": "code",
      "execution_count": 895,
      "metadata": {
        "id": "Mchm-n5TDkav"
      },
      "outputs": [],
      "source": [
        "#Z-score standardization and removing outliers\n",
        "import scipy.stats as stats\n",
        "z_scores = stats.zscore(df)\n",
        "z_scores.max()\n",
        "z_scores.min()\n",
        "#df = df.select_dtypes(include='number').apply(stats.zscore)\n",
        "#print(df.head())\n",
        "\n",
        "df_11 = df"
      ]
    },
    {
      "cell_type": "code",
      "execution_count": 896,
      "metadata": {
        "colab": {
          "base_uri": "https://localhost:8080/"
        },
        "id": "Ig6gWme5WE0f",
        "outputId": "28e888f3-85d8-4634-ab88-ad6aea3ec48c"
      },
      "outputs": [
        {
          "output_type": "execute_result",
          "data": {
            "text/plain": [
              "(2279, 7)"
            ]
          },
          "metadata": {},
          "execution_count": 896
        }
      ],
      "source": [
        "df.shape"
      ]
    },
    {
      "cell_type": "code",
      "execution_count": 897,
      "metadata": {
        "colab": {
          "base_uri": "https://localhost:8080/",
          "height": 424
        },
        "id": "ei25Fvk26nXe",
        "outputId": "6c34bbf2-398d-4e40-9b44-ae89e841bddd"
      },
      "outputs": [
        {
          "output_type": "execute_result",
          "data": {
            "text/plain": [
              "      Unitprice  Expire date  Number of outbound orders  Total outbound  \\\n",
              "0       0.05800        547.0                        9.0          2441.0   \n",
              "1       0.95400        547.0                      811.4          1806.1   \n",
              "2       2.38500        547.0                       12.0            23.0   \n",
              "3       5.10000        547.0                      157.0           266.5   \n",
              "4       0.90420        547.0                     1222.8          3442.5   \n",
              "...         ...          ...                        ...             ...   \n",
              "2272   64.06600        401.4                        5.8            10.4   \n",
              "2273   64.06600        401.4                        5.8            10.4   \n",
              "2274   64.06600        401.4                        5.8            10.4   \n",
              "2276   36.76755        419.6                        2.6             3.4   \n",
              "2278    0.84696        547.0                       76.0          1570.0   \n",
              "\n",
              "      Pal grossweight  Pal height  Units per pal  \n",
              "0             105.600       1.560         1920.0  \n",
              "1             207.680       1.000          384.0  \n",
              "2             165.780       1.020          108.0  \n",
              "3             221.040       1.050           72.0  \n",
              "4             245.632       0.940          384.0  \n",
              "...               ...         ...            ...  \n",
              "2272            2.700       0.512           10.0  \n",
              "2273            2.700       0.512           10.0  \n",
              "2274            2.700       0.512           10.0  \n",
              "2276           38.360       0.510            4.0  \n",
              "2278          105.600       1.487         1920.0  \n",
              "\n",
              "[2130 rows x 7 columns]"
            ],
            "text/html": [
              "\n",
              "  <div id=\"df-d122b405-4efd-421d-a120-4aaa372b9ccc\">\n",
              "    <div class=\"colab-df-container\">\n",
              "      <div>\n",
              "<style scoped>\n",
              "    .dataframe tbody tr th:only-of-type {\n",
              "        vertical-align: middle;\n",
              "    }\n",
              "\n",
              "    .dataframe tbody tr th {\n",
              "        vertical-align: top;\n",
              "    }\n",
              "\n",
              "    .dataframe thead th {\n",
              "        text-align: right;\n",
              "    }\n",
              "</style>\n",
              "<table border=\"1\" class=\"dataframe\">\n",
              "  <thead>\n",
              "    <tr style=\"text-align: right;\">\n",
              "      <th></th>\n",
              "      <th>Unitprice</th>\n",
              "      <th>Expire date</th>\n",
              "      <th>Number of outbound orders</th>\n",
              "      <th>Total outbound</th>\n",
              "      <th>Pal grossweight</th>\n",
              "      <th>Pal height</th>\n",
              "      <th>Units per pal</th>\n",
              "    </tr>\n",
              "  </thead>\n",
              "  <tbody>\n",
              "    <tr>\n",
              "      <th>0</th>\n",
              "      <td>0.05800</td>\n",
              "      <td>547.0</td>\n",
              "      <td>9.0</td>\n",
              "      <td>2441.0</td>\n",
              "      <td>105.600</td>\n",
              "      <td>1.560</td>\n",
              "      <td>1920.0</td>\n",
              "    </tr>\n",
              "    <tr>\n",
              "      <th>1</th>\n",
              "      <td>0.95400</td>\n",
              "      <td>547.0</td>\n",
              "      <td>811.4</td>\n",
              "      <td>1806.1</td>\n",
              "      <td>207.680</td>\n",
              "      <td>1.000</td>\n",
              "      <td>384.0</td>\n",
              "    </tr>\n",
              "    <tr>\n",
              "      <th>2</th>\n",
              "      <td>2.38500</td>\n",
              "      <td>547.0</td>\n",
              "      <td>12.0</td>\n",
              "      <td>23.0</td>\n",
              "      <td>165.780</td>\n",
              "      <td>1.020</td>\n",
              "      <td>108.0</td>\n",
              "    </tr>\n",
              "    <tr>\n",
              "      <th>3</th>\n",
              "      <td>5.10000</td>\n",
              "      <td>547.0</td>\n",
              "      <td>157.0</td>\n",
              "      <td>266.5</td>\n",
              "      <td>221.040</td>\n",
              "      <td>1.050</td>\n",
              "      <td>72.0</td>\n",
              "    </tr>\n",
              "    <tr>\n",
              "      <th>4</th>\n",
              "      <td>0.90420</td>\n",
              "      <td>547.0</td>\n",
              "      <td>1222.8</td>\n",
              "      <td>3442.5</td>\n",
              "      <td>245.632</td>\n",
              "      <td>0.940</td>\n",
              "      <td>384.0</td>\n",
              "    </tr>\n",
              "    <tr>\n",
              "      <th>...</th>\n",
              "      <td>...</td>\n",
              "      <td>...</td>\n",
              "      <td>...</td>\n",
              "      <td>...</td>\n",
              "      <td>...</td>\n",
              "      <td>...</td>\n",
              "      <td>...</td>\n",
              "    </tr>\n",
              "    <tr>\n",
              "      <th>2272</th>\n",
              "      <td>64.06600</td>\n",
              "      <td>401.4</td>\n",
              "      <td>5.8</td>\n",
              "      <td>10.4</td>\n",
              "      <td>2.700</td>\n",
              "      <td>0.512</td>\n",
              "      <td>10.0</td>\n",
              "    </tr>\n",
              "    <tr>\n",
              "      <th>2273</th>\n",
              "      <td>64.06600</td>\n",
              "      <td>401.4</td>\n",
              "      <td>5.8</td>\n",
              "      <td>10.4</td>\n",
              "      <td>2.700</td>\n",
              "      <td>0.512</td>\n",
              "      <td>10.0</td>\n",
              "    </tr>\n",
              "    <tr>\n",
              "      <th>2274</th>\n",
              "      <td>64.06600</td>\n",
              "      <td>401.4</td>\n",
              "      <td>5.8</td>\n",
              "      <td>10.4</td>\n",
              "      <td>2.700</td>\n",
              "      <td>0.512</td>\n",
              "      <td>10.0</td>\n",
              "    </tr>\n",
              "    <tr>\n",
              "      <th>2276</th>\n",
              "      <td>36.76755</td>\n",
              "      <td>419.6</td>\n",
              "      <td>2.6</td>\n",
              "      <td>3.4</td>\n",
              "      <td>38.360</td>\n",
              "      <td>0.510</td>\n",
              "      <td>4.0</td>\n",
              "    </tr>\n",
              "    <tr>\n",
              "      <th>2278</th>\n",
              "      <td>0.84696</td>\n",
              "      <td>547.0</td>\n",
              "      <td>76.0</td>\n",
              "      <td>1570.0</td>\n",
              "      <td>105.600</td>\n",
              "      <td>1.487</td>\n",
              "      <td>1920.0</td>\n",
              "    </tr>\n",
              "  </tbody>\n",
              "</table>\n",
              "<p>2130 rows × 7 columns</p>\n",
              "</div>\n",
              "      <button class=\"colab-df-convert\" onclick=\"convertToInteractive('df-d122b405-4efd-421d-a120-4aaa372b9ccc')\"\n",
              "              title=\"Convert this dataframe to an interactive table.\"\n",
              "              style=\"display:none;\">\n",
              "        \n",
              "  <svg xmlns=\"http://www.w3.org/2000/svg\" height=\"24px\"viewBox=\"0 0 24 24\"\n",
              "       width=\"24px\">\n",
              "    <path d=\"M0 0h24v24H0V0z\" fill=\"none\"/>\n",
              "    <path d=\"M18.56 5.44l.94 2.06.94-2.06 2.06-.94-2.06-.94-.94-2.06-.94 2.06-2.06.94zm-11 1L8.5 8.5l.94-2.06 2.06-.94-2.06-.94L8.5 2.5l-.94 2.06-2.06.94zm10 10l.94 2.06.94-2.06 2.06-.94-2.06-.94-.94-2.06-.94 2.06-2.06.94z\"/><path d=\"M17.41 7.96l-1.37-1.37c-.4-.4-.92-.59-1.43-.59-.52 0-1.04.2-1.43.59L10.3 9.45l-7.72 7.72c-.78.78-.78 2.05 0 2.83L4 21.41c.39.39.9.59 1.41.59.51 0 1.02-.2 1.41-.59l7.78-7.78 2.81-2.81c.8-.78.8-2.07 0-2.86zM5.41 20L4 18.59l7.72-7.72 1.47 1.35L5.41 20z\"/>\n",
              "  </svg>\n",
              "      </button>\n",
              "      \n",
              "  <style>\n",
              "    .colab-df-container {\n",
              "      display:flex;\n",
              "      flex-wrap:wrap;\n",
              "      gap: 12px;\n",
              "    }\n",
              "\n",
              "    .colab-df-convert {\n",
              "      background-color: #E8F0FE;\n",
              "      border: none;\n",
              "      border-radius: 50%;\n",
              "      cursor: pointer;\n",
              "      display: none;\n",
              "      fill: #1967D2;\n",
              "      height: 32px;\n",
              "      padding: 0 0 0 0;\n",
              "      width: 32px;\n",
              "    }\n",
              "\n",
              "    .colab-df-convert:hover {\n",
              "      background-color: #E2EBFA;\n",
              "      box-shadow: 0px 1px 2px rgba(60, 64, 67, 0.3), 0px 1px 3px 1px rgba(60, 64, 67, 0.15);\n",
              "      fill: #174EA6;\n",
              "    }\n",
              "\n",
              "    [theme=dark] .colab-df-convert {\n",
              "      background-color: #3B4455;\n",
              "      fill: #D2E3FC;\n",
              "    }\n",
              "\n",
              "    [theme=dark] .colab-df-convert:hover {\n",
              "      background-color: #434B5C;\n",
              "      box-shadow: 0px 1px 3px 1px rgba(0, 0, 0, 0.15);\n",
              "      filter: drop-shadow(0px 1px 2px rgba(0, 0, 0, 0.3));\n",
              "      fill: #FFFFFF;\n",
              "    }\n",
              "  </style>\n",
              "\n",
              "      <script>\n",
              "        const buttonEl =\n",
              "          document.querySelector('#df-d122b405-4efd-421d-a120-4aaa372b9ccc button.colab-df-convert');\n",
              "        buttonEl.style.display =\n",
              "          google.colab.kernel.accessAllowed ? 'block' : 'none';\n",
              "\n",
              "        async function convertToInteractive(key) {\n",
              "          const element = document.querySelector('#df-d122b405-4efd-421d-a120-4aaa372b9ccc');\n",
              "          const dataTable =\n",
              "            await google.colab.kernel.invokeFunction('convertToInteractive',\n",
              "                                                     [key], {});\n",
              "          if (!dataTable) return;\n",
              "\n",
              "          const docLinkHtml = 'Like what you see? Visit the ' +\n",
              "            '<a target=\"_blank\" href=https://colab.research.google.com/notebooks/data_table.ipynb>data table notebook</a>'\n",
              "            + ' to learn more about interactive tables.';\n",
              "          element.innerHTML = '';\n",
              "          dataTable['output_type'] = 'display_data';\n",
              "          await google.colab.output.renderOutput(dataTable, element);\n",
              "          const docLink = document.createElement('div');\n",
              "          docLink.innerHTML = docLinkHtml;\n",
              "          element.appendChild(docLink);\n",
              "        }\n",
              "      </script>\n",
              "    </div>\n",
              "  </div>\n",
              "  "
            ]
          },
          "metadata": {},
          "execution_count": 897
        }
      ],
      "source": [
        "# Convert to absolute values\n",
        "abs_z_scores = np.abs(z_scores)\n",
        "\n",
        "# Select data points with a z-scores above or below 3\n",
        "filtered_entries = (abs_z_scores < 3).all(axis=1)\n",
        "\n",
        "# Filter the dataset\n",
        "df = df[filtered_entries]\n",
        "df.shape\n",
        "df\n",
        "\n",
        "#Standard Scalar for scalling all the columns\n",
        "#Snippet on the slide after all data pre-processing.\n"
      ]
    },
    {
      "cell_type": "code",
      "source": [
        "# from sklearn.preprocessing import StandardScaler\n",
        "# sc = StandardScaler()\n",
        "# X = sc.fit_transform(df)\n",
        "# X\n"
      ],
      "metadata": {
        "id": "XvvdBFfcMqJX"
      },
      "execution_count": 898,
      "outputs": []
    },
    {
      "cell_type": "code",
      "source": [
        "df.hist(bins = 30 , layout = (4,4), figsize = (40,30)  ,column = df.columns[0:], color= \"skyblue\", grid = False)\n",
        "plt.show()"
      ],
      "metadata": {
        "colab": {
          "base_uri": "https://localhost:8080/",
          "height": 509
        },
        "id": "N05VvLquZDxK",
        "outputId": "fdd1cffa-0755-432f-e859-83ff23a5b90a"
      },
      "execution_count": 899,
      "outputs": [
        {
          "output_type": "display_data",
          "data": {
            "text/plain": [
              "<Figure size 2880x2160 with 16 Axes>"
            ],
            "image/png": "[encoded data removed]"
          },
          "metadata": {
            "needs_background": "light"
          }
        }
      ]
    },
    {
      "cell_type": "code",
      "source": [
        "#varshini\n",
        "\n",
        "from sklearn.cluster import KMeans\n",
        "from sklearn.metrics import silhouette_samples, silhouette_score\n",
        "\n",
        "import matplotlib.pyplot as plt\n",
        "import matplotlib.cm as cm\n",
        "import numpy as np\n",
        "\n",
        "range_n_clusters = list(range(2,20))\n",
        "scores = []\n",
        "val = np.ndarray(shape=(1,2))\n",
        "for n_clusters in range_n_clusters:\n",
        "    clusterer = KMeans(n_clusters=n_clusters, random_state=10)\n",
        "    cluster_labels = clusterer.fit_predict(X)\n",
        "\n",
        "    silhouette_avg = silhouette_score(X, cluster_labels)\n",
        "    scores.append(silhouette_avg)\n",
        "    val = np.concatenate((val,[[n_clusters,silhouette_avg]]),axis=0)\n",
        "    print(\n",
        "        \"For n_clusters =\",\n",
        "        n_clusters,\n",
        "        \"The average silhouette_score is :\",\n",
        "        silhouette_avg,\n",
        "    )\n",
        "\n",
        "    sample_silhouette_values = silhouette_samples(X, cluster_labels)\n"
      ],
      "metadata": {
        "colab": {
          "base_uri": "https://localhost:8080/"
        },
        "id": "nDFhDhSblwQa",
        "outputId": "953d4505-fc62-4d88-e418-8644cac7bfe7"
      },
      "execution_count": 900,
      "outputs": [
        {
          "output_type": "stream",
          "name": "stdout",
          "text": [
            "For n_clusters = 2 The average silhouette_score is : 0.3158742665207127\n",
            "For n_clusters = 3 The average silhouette_score is : 0.38363958580302615\n",
            "For n_clusters = 4 The average silhouette_score is : 0.4525643245202019\n",
            "For n_clusters = 5 The average silhouette_score is : 0.40831561178613984\n",
            "For n_clusters = 6 The average silhouette_score is : 0.36988677949898713\n",
            "For n_clusters = 7 The average silhouette_score is : 0.33847455433163076\n",
            "For n_clusters = 8 The average silhouette_score is : 0.3768012108378928\n",
            "For n_clusters = 9 The average silhouette_score is : 0.3922974903882196\n",
            "For n_clusters = 10 The average silhouette_score is : 0.4105965614880029\n",
            "For n_clusters = 11 The average silhouette_score is : 0.42964181174685406\n",
            "For n_clusters = 12 The average silhouette_score is : 0.43611019329637063\n",
            "For n_clusters = 13 The average silhouette_score is : 0.424468387884918\n",
            "For n_clusters = 14 The average silhouette_score is : 0.4260797186550685\n",
            "For n_clusters = 15 The average silhouette_score is : 0.4498280337879985\n",
            "For n_clusters = 16 The average silhouette_score is : 0.44306330218441536\n",
            "For n_clusters = 17 The average silhouette_score is : 0.43352190764894416\n",
            "For n_clusters = 18 The average silhouette_score is : 0.4292698580469144\n",
            "For n_clusters = 19 The average silhouette_score is : 0.40400566348024064\n"
          ]
        }
      ]
    },
    {
      "cell_type": "code",
      "source": [
        "plt.plot(range(2,20), scores)\n",
        "plt.title('Silhoutte scores')\n",
        "plt.xlabel('Number of clusters')\n",
        "plt.ylabel('Average Silhouette score')\n",
        "plt.show()"
      ],
      "metadata": {
        "colab": {
          "base_uri": "https://localhost:8080/",
          "height": 295
        },
        "id": "me3PwjlCsbyP",
        "outputId": "2bb798b4-4589-45a6-c894-b189b1042d78"
      },
      "execution_count": 901,
      "outputs": [
        {
          "output_type": "display_data",
          "data": {
            "text/plain": [
              "<Figure size 432x288 with 1 Axes>"
            ],
            "image/png": "[encoded data removed]"
          },
          "metadata": {
            "needs_background": "light"
          }
        }
      ]
    },
    {
      "cell_type": "code",
      "source": [
        "#Krishna \n",
        "#without PCA\n",
        "\n",
        "from sklearn.cluster import KMeans\n",
        "\n",
        "kmeans = KMeans(n_clusters = 7, init = 'k-means++', max_iter = 300, n_init = 10, random_state = 0)\n",
        "#X = df_11\n",
        "y_kmeans = kmeans.fit_predict(X)\n",
        "y_kmeans\n",
        "\n",
        "print(y_kmeans)\n",
        "\n",
        "plt.scatter(X[y_kmeans == 0, 0], X[y_kmeans == 0, 1], s = 100, c = 'blue')\n",
        "plt.scatter(X[y_kmeans == 1, 0], X[y_kmeans == 1, 1], s = 100, c = 'orange')\n",
        "plt.scatter(X[y_kmeans == 2, 0], X[y_kmeans == 2, 1], s = 100, c = 'green')\n",
        "plt.scatter(X[y_kmeans == 3, 0], X[y_kmeans == 3, 1], s = 100, c = 'yellow')\n",
        "plt.scatter(X[y_kmeans == 4, 0], X[y_kmeans == 4, 1], s = 100, c = 'black')\n",
        "\n",
        "plt.scatter(X[y_kmeans == 5, 0], X[y_kmeans == 5, 1], s = 100, c = 'skyblue')\n",
        "plt.scatter(X[y_kmeans == 6, 0], X[y_kmeans == 6, 1], s = 100, c = 'pink')\n",
        "\n",
        "#plt.scatter(x[y_kmeans == 10, 0], x[y_kmeans == 10, 1], s = 100, c = '#8470FF')\n",
        "#plt.scatter(x[y_kmeans == 11, 0], x[y_kmeans == 11, 1], s = 100, c = '#FFFAFA')\n",
        "\n",
        "#Plotting the centroids of the clusters\n",
        "plt.scatter(kmeans.cluster_centers_[:, 0], kmeans.cluster_centers_[:,1], s = 100, c = 'red', label = 'Centroids')\n",
        "\n",
        "plt.legend()"
      ],
      "metadata": {
        "colab": {
          "base_uri": "https://localhost:8080/",
          "height": 300
        },
        "id": "EKCpX1rLTkKO",
        "outputId": "fa3bd9b1-0e26-462e-b1a3-6bc604bedfd9"
      },
      "execution_count": 902,
      "outputs": [
        {
          "output_type": "stream",
          "name": "stdout",
          "text": [
            "[5 5 5 ... 0 6 5]\n"
          ]
        },
        {
          "output_type": "execute_result",
          "data": {
            "text/plain": [
              "<matplotlib.legend.Legend at 0x7f9744a64ed0>"
            ]
          },
          "metadata": {},
          "execution_count": 902
        },
        {
          "output_type": "display_data",
          "data": {
            "text/plain": [
              "<Figure size 432x288 with 1 Axes>"
            ],
            "image/png": "[encoded data removed]"
          },
          "metadata": {
            "needs_background": "light"
          }
        }
      ]
    },
    {
      "cell_type": "code",
      "source": [
        "#Performance Metrices\n",
        "import numpy as np\n",
        "import pandas as pd\n",
        "import matplotlib.pyplot as plt\n",
        "import seaborn as sns\n",
        "from sklearn.cluster import KMeans\n",
        "from sklearn.metrics import silhouette_score,calinski_harabasz_score,davies_bouldin_score\n",
        "\n",
        "labels_1 = y_kmeans\n",
        " \n",
        "print(\"Silhouette Coefficient: %0.3f\" % silhouette_score(X, labels_1))\n",
        "print(\"Calinski-Harabasz Index: %0.3f\" % calinski_harabasz_score(X, labels_1))\n",
        "print(\"Davies-Bouldin Index: %0.3f\" % davies_bouldin_score(X, labels_1))"
      ],
      "metadata": {
        "colab": {
          "base_uri": "https://localhost:8080/"
        },
        "id": "GH4W8N8y_vBz",
        "outputId": "de4cfce8-95c5-4ffd-87ce-b35c65e0009d"
      },
      "execution_count": 903,
      "outputs": [
        {
          "output_type": "stream",
          "name": "stdout",
          "text": [
            "Silhouette Coefficient: 0.338\n",
            "Calinski-Harabasz Index: 805.016\n",
            "Davies-Bouldin Index: 0.877\n"
          ]
        }
      ]
    },
    {
      "cell_type": "code",
      "source": [
        "#Niti\n",
        "#DBSCAN without PCA"
      ],
      "metadata": {
        "id": "tp6QpsSNsXpY"
      },
      "execution_count": 904,
      "outputs": []
    },
    {
      "cell_type": "code",
      "source": [
        "#Niti\n",
        "from sklearn.neighbors import NearestNeighbors\n",
        "import matplotlib.pyplot as plt\n",
        "neighbors = NearestNeighbors(n_neighbors=4)\n",
        "neighbors_fit = neighbors.fit(X)\n",
        "distances, indices = neighbors_fit.kneighbors(X)\n",
        "distances = np.sort(distances, axis=0)\n",
        "distances = distances[:,1]\n",
        "plt.figure(figsize=(9,9))\n",
        "plt.plot(distances)\n",
        "plt.locator_params(axis='y', tight=True,nbins = 20)\n",
        "plt.show()\n",
        "#5\n",
        "#0.5"
      ],
      "metadata": {
        "colab": {
          "base_uri": "https://localhost:8080/",
          "height": 537
        },
        "id": "1FYxPNbfsb3S",
        "outputId": "f77b1b60-dcee-457d-c2c1-3b8ace4c7419"
      },
      "execution_count": 905,
      "outputs": [
        {
          "output_type": "display_data",
          "data": {
            "text/plain": [
              "<Figure size 648x648 with 1 Axes>"
            ],
            "image/png": "[encoded data removed]"
          },
          "metadata": {
            "needs_background": "light"
          }
        }
      ]
    },
    {
      "cell_type": "code",
      "source": [
        "from sklearn.cluster import DBSCAN\n",
        "from sklearn.preprocessing import normalize\n",
        "\n",
        "#analysing the above curvature \n",
        "eps_value = 0.5\n",
        "\n",
        "# Numpy array of all the cluster labels assigned to each data point\n",
        "db_default = DBSCAN(eps = eps_value, min_samples = 6).fit(X)\n",
        "labels = db_default.labels_\n",
        "\n",
        "plt.scatter(X[:,0], X[:,1], c=labels, label=y)\n",
        "plt.xlabel('Axis X[0]')\n",
        "plt.ylabel('Axis X[1]')\n",
        "plt.figure(figsize =(9, 9))\n",
        "plt.show()\n",
        "\n",
        "num_clusters = len(set(labels))\n",
        "print(num_clusters)"
      ],
      "metadata": {
        "colab": {
          "base_uri": "https://localhost:8080/",
          "height": 314
        },
        "id": "7oryc0m3sgbH",
        "outputId": "4deba58a-e3b4-4a38-a6dc-196f1ad2b142"
      },
      "execution_count": 906,
      "outputs": [
        {
          "output_type": "display_data",
          "data": {
            "text/plain": [
              "<Figure size 432x288 with 1 Axes>"
            ],
            "image/png": "[encoded data removed]"
          },
          "metadata": {
            "needs_background": "light"
          }
        },
        {
          "output_type": "display_data",
          "data": {
            "text/plain": [
              "<Figure size 648x648 with 0 Axes>"
            ]
          },
          "metadata": {}
        },
        {
          "output_type": "stream",
          "name": "stdout",
          "text": [
            "23\n"
          ]
        }
      ]
    },
    {
      "cell_type": "code",
      "source": [
        "#Anand's PCA part\n",
        "df_pca = df #Anand : do not alter the variable in the code, I am using it for PCA \n",
        "df_pca.head() #Do not use the varaible - Anand\n",
        "#df_pca.drop(['Unnamed: 11', 'Unnamed: 12', 'Unnamed: 13'], axis=1, inplace=True)#Do not use the varaible - Anand\n",
        "#df_pca.head()"
      ],
      "metadata": {
        "colab": {
          "base_uri": "https://localhost:8080/",
          "height": 206
        },
        "id": "m19y8QaeI54x",
        "outputId": "75f074be-c898-4e85-9d1f-1c51695a413e"
      },
      "execution_count": 907,
      "outputs": [
        {
          "output_type": "execute_result",
          "data": {
            "text/plain": [
              "   Unitprice  Expire date  Number of outbound orders  Total outbound  \\\n",
              "0     0.0580        547.0                        9.0          2441.0   \n",
              "1     0.9540        547.0                      811.4          1806.1   \n",
              "2     2.3850        547.0                       12.0            23.0   \n",
              "3     5.1000        547.0                      157.0           266.5   \n",
              "4     0.9042        547.0                     1222.8          3442.5   \n",
              "\n",
              "   Pal grossweight  Pal height  Units per pal  \n",
              "0          105.600        1.56         1920.0  \n",
              "1          207.680        1.00          384.0  \n",
              "2          165.780        1.02          108.0  \n",
              "3          221.040        1.05           72.0  \n",
              "4          245.632        0.94          384.0  "
            ],
            "text/html": [
              "\n",
              "  <div id=\"df-b8ad8f9f-fa38-4d68-90e1-4e7cfb84d00f\">\n",
              "    <div class=\"colab-df-container\">\n",
              "      <div>\n",
              "<style scoped>\n",
              "    .dataframe tbody tr th:only-of-type {\n",
              "        vertical-align: middle;\n",
              "    }\n",
              "\n",
              "    .dataframe tbody tr th {\n",
              "        vertical-align: top;\n",
              "    }\n",
              "\n",
              "    .dataframe thead th {\n",
              "        text-align: right;\n",
              "    }\n",
              "</style>\n",
              "<table border=\"1\" class=\"dataframe\">\n",
              "  <thead>\n",
              "    <tr style=\"text-align: right;\">\n",
              "      <th></th>\n",
              "      <th>Unitprice</th>\n",
              "      <th>Expire date</th>\n",
              "      <th>Number of outbound orders</th>\n",
              "      <th>Total outbound</th>\n",
              "      <th>Pal grossweight</th>\n",
              "      <th>Pal height</th>\n",
              "      <th>Units per pal</th>\n",
              "    </tr>\n",
              "  </thead>\n",
              "  <tbody>\n",
              "    <tr>\n",
              "      <th>0</th>\n",
              "      <td>0.0580</td>\n",
              "      <td>547.0</td>\n",
              "      <td>9.0</td>\n",
              "      <td>2441.0</td>\n",
              "      <td>105.600</td>\n",
              "      <td>1.56</td>\n",
              "      <td>1920.0</td>\n",
              "    </tr>\n",
              "    <tr>\n",
              "      <th>1</th>\n",
              "      <td>0.9540</td>\n",
              "      <td>547.0</td>\n",
              "      <td>811.4</td>\n",
              "      <td>1806.1</td>\n",
              "      <td>207.680</td>\n",
              "      <td>1.00</td>\n",
              "      <td>384.0</td>\n",
              "    </tr>\n",
              "    <tr>\n",
              "      <th>2</th>\n",
              "      <td>2.3850</td>\n",
              "      <td>547.0</td>\n",
              "      <td>12.0</td>\n",
              "      <td>23.0</td>\n",
              "      <td>165.780</td>\n",
              "      <td>1.02</td>\n",
              "      <td>108.0</td>\n",
              "    </tr>\n",
              "    <tr>\n",
              "      <th>3</th>\n",
              "      <td>5.1000</td>\n",
              "      <td>547.0</td>\n",
              "      <td>157.0</td>\n",
              "      <td>266.5</td>\n",
              "      <td>221.040</td>\n",
              "      <td>1.05</td>\n",
              "      <td>72.0</td>\n",
              "    </tr>\n",
              "    <tr>\n",
              "      <th>4</th>\n",
              "      <td>0.9042</td>\n",
              "      <td>547.0</td>\n",
              "      <td>1222.8</td>\n",
              "      <td>3442.5</td>\n",
              "      <td>245.632</td>\n",
              "      <td>0.94</td>\n",
              "      <td>384.0</td>\n",
              "    </tr>\n",
              "  </tbody>\n",
              "</table>\n",
              "</div>\n",
              "      <button class=\"colab-df-convert\" onclick=\"convertToInteractive('df-b8ad8f9f-fa38-4d68-90e1-4e7cfb84d00f')\"\n",
              "              title=\"Convert this dataframe to an interactive table.\"\n",
              "              style=\"display:none;\">\n",
              "        \n",
              "  <svg xmlns=\"http://www.w3.org/2000/svg\" height=\"24px\"viewBox=\"0 0 24 24\"\n",
              "       width=\"24px\">\n",
              "    <path d=\"M0 0h24v24H0V0z\" fill=\"none\"/>\n",
              "    <path d=\"M18.56 5.44l.94 2.06.94-2.06 2.06-.94-2.06-.94-.94-2.06-.94 2.06-2.06.94zm-11 1L8.5 8.5l.94-2.06 2.06-.94-2.06-.94L8.5 2.5l-.94 2.06-2.06.94zm10 10l.94 2.06.94-2.06 2.06-.94-2.06-.94-.94-2.06-.94 2.06-2.06.94z\"/><path d=\"M17.41 7.96l-1.37-1.37c-.4-.4-.92-.59-1.43-.59-.52 0-1.04.2-1.43.59L10.3 9.45l-7.72 7.72c-.78.78-.78 2.05 0 2.83L4 21.41c.39.39.9.59 1.41.59.51 0 1.02-.2 1.41-.59l7.78-7.78 2.81-2.81c.8-.78.8-2.07 0-2.86zM5.41 20L4 18.59l7.72-7.72 1.47 1.35L5.41 20z\"/>\n",
              "  </svg>\n",
              "      </button>\n",
              "      \n",
              "  <style>\n",
              "    .colab-df-container {\n",
              "      display:flex;\n",
              "      flex-wrap:wrap;\n",
              "      gap: 12px;\n",
              "    }\n",
              "\n",
              "    .colab-df-convert {\n",
              "      background-color: #E8F0FE;\n",
              "      border: none;\n",
              "      border-radius: 50%;\n",
              "      cursor: pointer;\n",
              "      display: none;\n",
              "      fill: #1967D2;\n",
              "      height: 32px;\n",
              "      padding: 0 0 0 0;\n",
              "      width: 32px;\n",
              "    }\n",
              "\n",
              "    .colab-df-convert:hover {\n",
              "      background-color: #E2EBFA;\n",
              "      box-shadow: 0px 1px 2px rgba(60, 64, 67, 0.3), 0px 1px 3px 1px rgba(60, 64, 67, 0.15);\n",
              "      fill: #174EA6;\n",
              "    }\n",
              "\n",
              "    [theme=dark] .colab-df-convert {\n",
              "      background-color: #3B4455;\n",
              "      fill: #D2E3FC;\n",
              "    }\n",
              "\n",
              "    [theme=dark] .colab-df-convert:hover {\n",
              "      background-color: #434B5C;\n",
              "      box-shadow: 0px 1px 3px 1px rgba(0, 0, 0, 0.15);\n",
              "      filter: drop-shadow(0px 1px 2px rgba(0, 0, 0, 0.3));\n",
              "      fill: #FFFFFF;\n",
              "    }\n",
              "  </style>\n",
              "\n",
              "      <script>\n",
              "        const buttonEl =\n",
              "          document.querySelector('#df-b8ad8f9f-fa38-4d68-90e1-4e7cfb84d00f button.colab-df-convert');\n",
              "        buttonEl.style.display =\n",
              "          google.colab.kernel.accessAllowed ? 'block' : 'none';\n",
              "\n",
              "        async function convertToInteractive(key) {\n",
              "          const element = document.querySelector('#df-b8ad8f9f-fa38-4d68-90e1-4e7cfb84d00f');\n",
              "          const dataTable =\n",
              "            await google.colab.kernel.invokeFunction('convertToInteractive',\n",
              "                                                     [key], {});\n",
              "          if (!dataTable) return;\n",
              "\n",
              "          const docLinkHtml = 'Like what you see? Visit the ' +\n",
              "            '<a target=\"_blank\" href=https://colab.research.google.com/notebooks/data_table.ipynb>data table notebook</a>'\n",
              "            + ' to learn more about interactive tables.';\n",
              "          element.innerHTML = '';\n",
              "          dataTable['output_type'] = 'display_data';\n",
              "          await google.colab.output.renderOutput(dataTable, element);\n",
              "          const docLink = document.createElement('div');\n",
              "          docLink.innerHTML = docLinkHtml;\n",
              "          element.appendChild(docLink);\n",
              "        }\n",
              "      </script>\n",
              "    </div>\n",
              "  </div>\n",
              "  "
            ]
          },
          "metadata": {},
          "execution_count": 907
        }
      ]
    },
    {
      "cell_type": "code",
      "source": [
        "df_pca.describe()"
      ],
      "metadata": {
        "colab": {
          "base_uri": "https://localhost:8080/",
          "height": 300
        },
        "id": "CdZgNGPLJhxZ",
        "outputId": "ceb33587-4f86-47a2-c8df-dbcbe563b53c"
      },
      "execution_count": 908,
      "outputs": [
        {
          "output_type": "execute_result",
          "data": {
            "text/plain": [
              "         Unitprice  Expire date  Number of outbound orders  Total outbound  \\\n",
              "count  2130.000000  2130.000000                2130.000000     2130.000000   \n",
              "mean      6.446655   535.020386                 346.739480     1062.865073   \n",
              "std       9.202491    92.780772                 520.127031     1305.774427   \n",
              "min       0.003300   365.000000                   1.000000        1.000000   \n",
              "25%       0.976500   547.000000                   8.000000       73.250000   \n",
              "50%       2.898500   547.000000                  85.000000      577.600000   \n",
              "75%       8.029400   547.000000                 443.750000     1500.000000   \n",
              "max      64.066000   734.000000                2656.000000     7920.000000   \n",
              "\n",
              "       Pal grossweight   Pal height  Units per pal  \n",
              "count      2130.000000  2130.000000    2130.000000  \n",
              "mean        235.353306     1.008005     618.920683  \n",
              "std         138.650036     0.294422    1306.804721  \n",
              "min           0.800000     0.150000       1.000000  \n",
              "25%         148.000000     0.840000      72.000000  \n",
              "50%         226.800000     1.020000     153.600000  \n",
              "75%         293.760000     1.050000     384.000000  \n",
              "max         657.720000     1.800000   18000.000000  "
            ],
            "text/html": [
              "\n",
              "  <div id=\"df-7cce09cc-7042-4313-889c-acefaf3775d9\">\n",
              "    <div class=\"colab-df-container\">\n",
              "      <div>\n",
              "<style scoped>\n",
              "    .dataframe tbody tr th:only-of-type {\n",
              "        vertical-align: middle;\n",
              "    }\n",
              "\n",
              "    .dataframe tbody tr th {\n",
              "        vertical-align: top;\n",
              "    }\n",
              "\n",
              "    .dataframe thead th {\n",
              "        text-align: right;\n",
              "    }\n",
              "</style>\n",
              "<table border=\"1\" class=\"dataframe\">\n",
              "  <thead>\n",
              "    <tr style=\"text-align: right;\">\n",
              "      <th></th>\n",
              "      <th>Unitprice</th>\n",
              "      <th>Expire date</th>\n",
              "      <th>Number of outbound orders</th>\n",
              "      <th>Total outbound</th>\n",
              "      <th>Pal grossweight</th>\n",
              "      <th>Pal height</th>\n",
              "      <th>Units per pal</th>\n",
              "    </tr>\n",
              "  </thead>\n",
              "  <tbody>\n",
              "    <tr>\n",
              "      <th>count</th>\n",
              "      <td>2130.000000</td>\n",
              "      <td>2130.000000</td>\n",
              "      <td>2130.000000</td>\n",
              "      <td>2130.000000</td>\n",
              "      <td>2130.000000</td>\n",
              "      <td>2130.000000</td>\n",
              "      <td>2130.000000</td>\n",
              "    </tr>\n",
              "    <tr>\n",
              "      <th>mean</th>\n",
              "      <td>6.446655</td>\n",
              "      <td>535.020386</td>\n",
              "      <td>346.739480</td>\n",
              "      <td>1062.865073</td>\n",
              "      <td>235.353306</td>\n",
              "      <td>1.008005</td>\n",
              "      <td>618.920683</td>\n",
              "    </tr>\n",
              "    <tr>\n",
              "      <th>std</th>\n",
              "      <td>9.202491</td>\n",
              "      <td>92.780772</td>\n",
              "      <td>520.127031</td>\n",
              "      <td>1305.774427</td>\n",
              "      <td>138.650036</td>\n",
              "      <td>0.294422</td>\n",
              "      <td>1306.804721</td>\n",
              "    </tr>\n",
              "    <tr>\n",
              "      <th>min</th>\n",
              "      <td>0.003300</td>\n",
              "      <td>365.000000</td>\n",
              "      <td>1.000000</td>\n",
              "      <td>1.000000</td>\n",
              "      <td>0.800000</td>\n",
              "      <td>0.150000</td>\n",
              "      <td>1.000000</td>\n",
              "    </tr>\n",
              "    <tr>\n",
              "      <th>25%</th>\n",
              "      <td>0.976500</td>\n",
              "      <td>547.000000</td>\n",
              "      <td>8.000000</td>\n",
              "      <td>73.250000</td>\n",
              "      <td>148.000000</td>\n",
              "      <td>0.840000</td>\n",
              "      <td>72.000000</td>\n",
              "    </tr>\n",
              "    <tr>\n",
              "      <th>50%</th>\n",
              "      <td>2.898500</td>\n",
              "      <td>547.000000</td>\n",
              "      <td>85.000000</td>\n",
              "      <td>577.600000</td>\n",
              "      <td>226.800000</td>\n",
              "      <td>1.020000</td>\n",
              "      <td>153.600000</td>\n",
              "    </tr>\n",
              "    <tr>\n",
              "      <th>75%</th>\n",
              "      <td>8.029400</td>\n",
              "      <td>547.000000</td>\n",
              "      <td>443.750000</td>\n",
              "      <td>1500.000000</td>\n",
              "      <td>293.760000</td>\n",
              "      <td>1.050000</td>\n",
              "      <td>384.000000</td>\n",
              "    </tr>\n",
              "    <tr>\n",
              "      <th>max</th>\n",
              "      <td>64.066000</td>\n",
              "      <td>734.000000</td>\n",
              "      <td>2656.000000</td>\n",
              "      <td>7920.000000</td>\n",
              "      <td>657.720000</td>\n",
              "      <td>1.800000</td>\n",
              "      <td>18000.000000</td>\n",
              "    </tr>\n",
              "  </tbody>\n",
              "</table>\n",
              "</div>\n",
              "      <button class=\"colab-df-convert\" onclick=\"convertToInteractive('df-7cce09cc-7042-4313-889c-acefaf3775d9')\"\n",
              "              title=\"Convert this dataframe to an interactive table.\"\n",
              "              style=\"display:none;\">\n",
              "        \n",
              "  <svg xmlns=\"http://www.w3.org/2000/svg\" height=\"24px\"viewBox=\"0 0 24 24\"\n",
              "       width=\"24px\">\n",
              "    <path d=\"M0 0h24v24H0V0z\" fill=\"none\"/>\n",
              "    <path d=\"M18.56 5.44l.94 2.06.94-2.06 2.06-.94-2.06-.94-.94-2.06-.94 2.06-2.06.94zm-11 1L8.5 8.5l.94-2.06 2.06-.94-2.06-.94L8.5 2.5l-.94 2.06-2.06.94zm10 10l.94 2.06.94-2.06 2.06-.94-2.06-.94-.94-2.06-.94 2.06-2.06.94z\"/><path d=\"M17.41 7.96l-1.37-1.37c-.4-.4-.92-.59-1.43-.59-.52 0-1.04.2-1.43.59L10.3 9.45l-7.72 7.72c-.78.78-.78 2.05 0 2.83L4 21.41c.39.39.9.59 1.41.59.51 0 1.02-.2 1.41-.59l7.78-7.78 2.81-2.81c.8-.78.8-2.07 0-2.86zM5.41 20L4 18.59l7.72-7.72 1.47 1.35L5.41 20z\"/>\n",
              "  </svg>\n",
              "      </button>\n",
              "      \n",
              "  <style>\n",
              "    .colab-df-container {\n",
              "      display:flex;\n",
              "      flex-wrap:wrap;\n",
              "      gap: 12px;\n",
              "    }\n",
              "\n",
              "    .colab-df-convert {\n",
              "      background-color: #E8F0FE;\n",
              "      border: none;\n",
              "      border-radius: 50%;\n",
              "      cursor: pointer;\n",
              "      display: none;\n",
              "      fill: #1967D2;\n",
              "      height: 32px;\n",
              "      padding: 0 0 0 0;\n",
              "      width: 32px;\n",
              "    }\n",
              "\n",
              "    .colab-df-convert:hover {\n",
              "      background-color: #E2EBFA;\n",
              "      box-shadow: 0px 1px 2px rgba(60, 64, 67, 0.3), 0px 1px 3px 1px rgba(60, 64, 67, 0.15);\n",
              "      fill: #174EA6;\n",
              "    }\n",
              "\n",
              "    [theme=dark] .colab-df-convert {\n",
              "      background-color: #3B4455;\n",
              "      fill: #D2E3FC;\n",
              "    }\n",
              "\n",
              "    [theme=dark] .colab-df-convert:hover {\n",
              "      background-color: #434B5C;\n",
              "      box-shadow: 0px 1px 3px 1px rgba(0, 0, 0, 0.15);\n",
              "      filter: drop-shadow(0px 1px 2px rgba(0, 0, 0, 0.3));\n",
              "      fill: #FFFFFF;\n",
              "    }\n",
              "  </style>\n",
              "\n",
              "      <script>\n",
              "        const buttonEl =\n",
              "          document.querySelector('#df-7cce09cc-7042-4313-889c-acefaf3775d9 button.colab-df-convert');\n",
              "        buttonEl.style.display =\n",
              "          google.colab.kernel.accessAllowed ? 'block' : 'none';\n",
              "\n",
              "        async function convertToInteractive(key) {\n",
              "          const element = document.querySelector('#df-7cce09cc-7042-4313-889c-acefaf3775d9');\n",
              "          const dataTable =\n",
              "            await google.colab.kernel.invokeFunction('convertToInteractive',\n",
              "                                                     [key], {});\n",
              "          if (!dataTable) return;\n",
              "\n",
              "          const docLinkHtml = 'Like what you see? Visit the ' +\n",
              "            '<a target=\"_blank\" href=https://colab.research.google.com/notebooks/data_table.ipynb>data table notebook</a>'\n",
              "            + ' to learn more about interactive tables.';\n",
              "          element.innerHTML = '';\n",
              "          dataTable['output_type'] = 'display_data';\n",
              "          await google.colab.output.renderOutput(dataTable, element);\n",
              "          const docLink = document.createElement('div');\n",
              "          docLink.innerHTML = docLinkHtml;\n",
              "          element.appendChild(docLink);\n",
              "        }\n",
              "      </script>\n",
              "    </div>\n",
              "  </div>\n",
              "  "
            ]
          },
          "metadata": {},
          "execution_count": 908
        }
      ]
    },
    {
      "cell_type": "code",
      "source": [
        "from sklearn.decomposition import PCA\n",
        "pca = PCA(n_components = 2) #tell pca to convert in 2 dimensions\n",
        "print(\"Shape before PCA:\" ,X.shape)\n",
        "\n",
        "x_pca = pca.fit_transform(X);\n",
        "print(\"Shape after PCA:\" ,x_pca.shape)\n",
        "pca.explained_variance_ratio_\n",
        "print(x_pca)\n",
        "\n",
        "# we should call K-Means \n",
        "#call Kmeans using df val1: KMeans(df)\n",
        "#call DBScan using df val2: DBScan(df)\n",
        "\n",
        "#Calculate PCA\n",
        "\n",
        "#Reason for doing PCA in presentation\n",
        "\n",
        "# we should call K-Means \n",
        "#call Kmeans using x_pca val3: KMeans(x_pca)\n",
        "#call DBScan using x_pca val4: DBScan(x_pca)\n",
        "\n",
        "#Compare val1 and val3\n",
        "#Compare val2 and val4"
      ],
      "metadata": {
        "colab": {
          "base_uri": "https://localhost:8080/"
        },
        "id": "Ob-XihxuJimB",
        "outputId": "da168129-dbac-40be-9633-4f9488de889f"
      },
      "execution_count": 909,
      "outputs": [
        {
          "output_type": "stream",
          "name": "stdout",
          "text": [
            "Shape before PCA: (2279, 7)\n",
            "Shape after PCA: (2279, 2)\n",
            "[[ 0.14913839 -0.54289081]\n",
            " [ 0.64825463  0.06071391]\n",
            " [-0.5207626   0.46834199]\n",
            " ...\n",
            " [-1.41976272  1.69277095]\n",
            " [-1.96385408  1.86187928]\n",
            " [-0.0422638  -0.34755693]]\n"
          ]
        }
      ]
    },
    {
      "cell_type": "code",
      "source": [
        "x_principalDf = pd.DataFrame(data = x_pca\n",
        "             , columns = ['P1', 'P2'])\n",
        "finalDf = x_principalDf\n",
        "x_principalDf.head()\n"
      ],
      "metadata": {
        "colab": {
          "base_uri": "https://localhost:8080/",
          "height": 206
        },
        "id": "zbgH3S8UjAD5",
        "outputId": "3870e732-5540-4b60-c13f-5031be6d5e61"
      },
      "execution_count": 910,
      "outputs": [
        {
          "output_type": "execute_result",
          "data": {
            "text/plain": [
              "         P1        P2\n",
              "0  0.149138 -0.542891\n",
              "1  0.648255  0.060714\n",
              "2 -0.520763  0.468342\n",
              "3 -0.405074  0.142604\n",
              "4  1.440180 -0.158810"
            ],
            "text/html": [
              "\n",
              "  <div id=\"df-426cdbc6-4a06-452d-9d80-2832ab48725e\">\n",
              "    <div class=\"colab-df-container\">\n",
              "      <div>\n",
              "<style scoped>\n",
              "    .dataframe tbody tr th:only-of-type {\n",
              "        vertical-align: middle;\n",
              "    }\n",
              "\n",
              "    .dataframe tbody tr th {\n",
              "        vertical-align: top;\n",
              "    }\n",
              "\n",
              "    .dataframe thead th {\n",
              "        text-align: right;\n",
              "    }\n",
              "</style>\n",
              "<table border=\"1\" class=\"dataframe\">\n",
              "  <thead>\n",
              "    <tr style=\"text-align: right;\">\n",
              "      <th></th>\n",
              "      <th>P1</th>\n",
              "      <th>P2</th>\n",
              "    </tr>\n",
              "  </thead>\n",
              "  <tbody>\n",
              "    <tr>\n",
              "      <th>0</th>\n",
              "      <td>0.149138</td>\n",
              "      <td>-0.542891</td>\n",
              "    </tr>\n",
              "    <tr>\n",
              "      <th>1</th>\n",
              "      <td>0.648255</td>\n",
              "      <td>0.060714</td>\n",
              "    </tr>\n",
              "    <tr>\n",
              "      <th>2</th>\n",
              "      <td>-0.520763</td>\n",
              "      <td>0.468342</td>\n",
              "    </tr>\n",
              "    <tr>\n",
              "      <th>3</th>\n",
              "      <td>-0.405074</td>\n",
              "      <td>0.142604</td>\n",
              "    </tr>\n",
              "    <tr>\n",
              "      <th>4</th>\n",
              "      <td>1.440180</td>\n",
              "      <td>-0.158810</td>\n",
              "    </tr>\n",
              "  </tbody>\n",
              "</table>\n",
              "</div>\n",
              "      <button class=\"colab-df-convert\" onclick=\"convertToInteractive('df-426cdbc6-4a06-452d-9d80-2832ab48725e')\"\n",
              "              title=\"Convert this dataframe to an interactive table.\"\n",
              "              style=\"display:none;\">\n",
              "        \n",
              "  <svg xmlns=\"http://www.w3.org/2000/svg\" height=\"24px\"viewBox=\"0 0 24 24\"\n",
              "       width=\"24px\">\n",
              "    <path d=\"M0 0h24v24H0V0z\" fill=\"none\"/>\n",
              "    <path d=\"M18.56 5.44l.94 2.06.94-2.06 2.06-.94-2.06-.94-.94-2.06-.94 2.06-2.06.94zm-11 1L8.5 8.5l.94-2.06 2.06-.94-2.06-.94L8.5 2.5l-.94 2.06-2.06.94zm10 10l.94 2.06.94-2.06 2.06-.94-2.06-.94-.94-2.06-.94 2.06-2.06.94z\"/><path d=\"M17.41 7.96l-1.37-1.37c-.4-.4-.92-.59-1.43-.59-.52 0-1.04.2-1.43.59L10.3 9.45l-7.72 7.72c-.78.78-.78 2.05 0 2.83L4 21.41c.39.39.9.59 1.41.59.51 0 1.02-.2 1.41-.59l7.78-7.78 2.81-2.81c.8-.78.8-2.07 0-2.86zM5.41 20L4 18.59l7.72-7.72 1.47 1.35L5.41 20z\"/>\n",
              "  </svg>\n",
              "      </button>\n",
              "      \n",
              "  <style>\n",
              "    .colab-df-container {\n",
              "      display:flex;\n",
              "      flex-wrap:wrap;\n",
              "      gap: 12px;\n",
              "    }\n",
              "\n",
              "    .colab-df-convert {\n",
              "      background-color: #E8F0FE;\n",
              "      border: none;\n",
              "      border-radius: 50%;\n",
              "      cursor: pointer;\n",
              "      display: none;\n",
              "      fill: #1967D2;\n",
              "      height: 32px;\n",
              "      padding: 0 0 0 0;\n",
              "      width: 32px;\n",
              "    }\n",
              "\n",
              "    .colab-df-convert:hover {\n",
              "      background-color: #E2EBFA;\n",
              "      box-shadow: 0px 1px 2px rgba(60, 64, 67, 0.3), 0px 1px 3px 1px rgba(60, 64, 67, 0.15);\n",
              "      fill: #174EA6;\n",
              "    }\n",
              "\n",
              "    [theme=dark] .colab-df-convert {\n",
              "      background-color: #3B4455;\n",
              "      fill: #D2E3FC;\n",
              "    }\n",
              "\n",
              "    [theme=dark] .colab-df-convert:hover {\n",
              "      background-color: #434B5C;\n",
              "      box-shadow: 0px 1px 3px 1px rgba(0, 0, 0, 0.15);\n",
              "      filter: drop-shadow(0px 1px 2px rgba(0, 0, 0, 0.3));\n",
              "      fill: #FFFFFF;\n",
              "    }\n",
              "  </style>\n",
              "\n",
              "      <script>\n",
              "        const buttonEl =\n",
              "          document.querySelector('#df-426cdbc6-4a06-452d-9d80-2832ab48725e button.colab-df-convert');\n",
              "        buttonEl.style.display =\n",
              "          google.colab.kernel.accessAllowed ? 'block' : 'none';\n",
              "\n",
              "        async function convertToInteractive(key) {\n",
              "          const element = document.querySelector('#df-426cdbc6-4a06-452d-9d80-2832ab48725e');\n",
              "          const dataTable =\n",
              "            await google.colab.kernel.invokeFunction('convertToInteractive',\n",
              "                                                     [key], {});\n",
              "          if (!dataTable) return;\n",
              "\n",
              "          const docLinkHtml = 'Like what you see? Visit the ' +\n",
              "            '<a target=\"_blank\" href=https://colab.research.google.com/notebooks/data_table.ipynb>data table notebook</a>'\n",
              "            + ' to learn more about interactive tables.';\n",
              "          element.innerHTML = '';\n",
              "          dataTable['output_type'] = 'display_data';\n",
              "          await google.colab.output.renderOutput(dataTable, element);\n",
              "          const docLink = document.createElement('div');\n",
              "          docLink.innerHTML = docLinkHtml;\n",
              "          element.appendChild(docLink);\n",
              "        }\n",
              "      </script>\n",
              "    </div>\n",
              "  </div>\n",
              "  "
            ]
          },
          "metadata": {},
          "execution_count": 910
        }
      ]
    },
    {
      "cell_type": "code",
      "source": [
        "# fig = plt.figure(figsize = (8,8))\n"
      ],
      "metadata": {
        "id": "fgNBFyikjdyS"
      },
      "execution_count": 911,
      "outputs": []
    },
    {
      "cell_type": "code",
      "source": [
        "import pandas\n",
        "from sklearn.decomposition import PCA\n",
        "import numpy\n",
        "import matplotlib.pyplot as plot\n",
        "plot.plot(pca.explained_variance_ratio_)\n",
        "plot.ylabel('Explained Variance')\n",
        "plot.xlabel('Components')\n",
        "plot.show()"
      ],
      "metadata": {
        "colab": {
          "base_uri": "https://localhost:8080/",
          "height": 279
        },
        "id": "fa-ycyYiXMOu",
        "outputId": "0357692d-ddbf-4b1e-d367-b71963c1d3be"
      },
      "execution_count": 912,
      "outputs": [
        {
          "output_type": "display_data",
          "data": {
            "text/plain": [
              "<Figure size 432x288 with 1 Axes>"
            ],
            "image/png": "[encoded data removed]"
          },
          "metadata": {
            "needs_background": "light"
          }
        }
      ]
    },
    {
      "cell_type": "code",
      "source": [
        "#Niti\n",
        "#DBSCAN after pca\n",
        "#analysing the above curvature \n",
        "eps_value = 0.5\n",
        "\n",
        "X_principal = x_principalDf\n",
        "\n",
        "# Numpy array of all the cluster labels assigned to each data point\n",
        "db_default = DBSCAN(eps = eps_value, min_samples = 5).fit(X_principal)\n",
        "labels = db_default.labels_\n",
        "\n",
        "print(labels)\n",
        "num_clusters = len(set(labels))\n",
        "print(num_clusters)\n",
        "\n",
        "colours = {}\n",
        "colours[0] = 'r'\n",
        "colours[1] = 'g'\n",
        "colours[2] = 'b'\n",
        "colours[-1] = 'k'\n",
        "  \n",
        "# Building the colour vector for each data point\n",
        "cvec = [colours[label] for label in labels]\n",
        "  \n",
        "# For the construction of the legend of the plot\n",
        "r = plt.scatter(X_principal['P1'], X_principal['P2'], color ='r');\n",
        "g = plt.scatter(X_principal['P1'], X_principal['P2'], color ='g');\n",
        "b = plt.scatter(X_principal['P1'], X_principal['P2'], color ='b');\n",
        "k = plt.scatter(X_principal['P1'], X_principal['P2'], color ='k');\n",
        "  \n",
        "# Plotting P1 on the X-Axis and P2 on the Y-Axis \n",
        "# according to the colour vector defined\n",
        "plt.figure(figsize =(9, 9))\n",
        "plt.scatter(X_principal['P1'], X_principal['P2'], c = cvec)\n",
        "  \n",
        "# Building the legend\n",
        "plt.legend((r, g, b, k), ('Label 0', 'Label 1', 'Label 2', 'Label -1'))\n",
        "  \n",
        "plt.show()\n",
        "\n",
        "# Number of clusters in labels, ignoring noise if present.\n",
        "n_clusters_ = len(set(labels)) - (1 if -1 in labels else 0)\n",
        "n_noise_ = list(labels).count(-1)\n",
        "\n",
        "print(\"Estimated number of clusters: %d\" % n_clusters_)\n"
      ],
      "metadata": {
        "colab": {
          "base_uri": "https://localhost:8080/",
          "height": 391
        },
        "id": "PK4HFiHliGJ3",
        "outputId": "44b85707-5cca-40a7-8a58-c053d9d5474c"
      },
      "execution_count": 913,
      "outputs": [
        {
          "output_type": "stream",
          "name": "stdout",
          "text": [
            "[0 0 0 ... 0 0 0]\n",
            "6\n"
          ]
        },
        {
          "output_type": "error",
          "ename": "KeyError",
          "evalue": "ignored",
          "traceback": [
            "\u001b[0;31m---------------------------------------------------------------------------\u001b[0m",
            "\u001b[0;31mKeyError\u001b[0m                                  Traceback (most recent call last)",
            "\u001b[0;32m<ipython-input-913-674f46d03de3>\u001b[0m in \u001b[0;36m<module>\u001b[0;34m\u001b[0m\n\u001b[1;32m     21\u001b[0m \u001b[0;34m\u001b[0m\u001b[0m\n\u001b[1;32m     22\u001b[0m \u001b[0;31m# Building the colour vector for each data point\u001b[0m\u001b[0;34m\u001b[0m\u001b[0;34m\u001b[0m\u001b[0;34m\u001b[0m\u001b[0m\n\u001b[0;32m---> 23\u001b[0;31m \u001b[0mcvec\u001b[0m \u001b[0;34m=\u001b[0m \u001b[0;34m[\u001b[0m\u001b[0mcolours\u001b[0m\u001b[0;34m[\u001b[0m\u001b[0mlabel\u001b[0m\u001b[0;34m]\u001b[0m \u001b[0;32mfor\u001b[0m \u001b[0mlabel\u001b[0m \u001b[0;32min\u001b[0m \u001b[0mlabels\u001b[0m\u001b[0;34m]\u001b[0m\u001b[0;34m\u001b[0m\u001b[0;34m\u001b[0m\u001b[0m\n\u001b[0m\u001b[1;32m     24\u001b[0m \u001b[0;34m\u001b[0m\u001b[0m\n\u001b[1;32m     25\u001b[0m \u001b[0;31m# For the construction of the legend of the plot\u001b[0m\u001b[0;34m\u001b[0m\u001b[0;34m\u001b[0m\u001b[0;34m\u001b[0m\u001b[0m\n",
            "\u001b[0;32m<ipython-input-913-674f46d03de3>\u001b[0m in \u001b[0;36m<listcomp>\u001b[0;34m(.0)\u001b[0m\n\u001b[1;32m     21\u001b[0m \u001b[0;34m\u001b[0m\u001b[0m\n\u001b[1;32m     22\u001b[0m \u001b[0;31m# Building the colour vector for each data point\u001b[0m\u001b[0;34m\u001b[0m\u001b[0;34m\u001b[0m\u001b[0;34m\u001b[0m\u001b[0m\n\u001b[0;32m---> 23\u001b[0;31m \u001b[0mcvec\u001b[0m \u001b[0;34m=\u001b[0m \u001b[0;34m[\u001b[0m\u001b[0mcolours\u001b[0m\u001b[0;34m[\u001b[0m\u001b[0mlabel\u001b[0m\u001b[0;34m]\u001b[0m \u001b[0;32mfor\u001b[0m \u001b[0mlabel\u001b[0m \u001b[0;32min\u001b[0m \u001b[0mlabels\u001b[0m\u001b[0;34m]\u001b[0m\u001b[0;34m\u001b[0m\u001b[0;34m\u001b[0m\u001b[0m\n\u001b[0m\u001b[1;32m     24\u001b[0m \u001b[0;34m\u001b[0m\u001b[0m\n\u001b[1;32m     25\u001b[0m \u001b[0;31m# For the construction of the legend of the plot\u001b[0m\u001b[0;34m\u001b[0m\u001b[0;34m\u001b[0m\u001b[0;34m\u001b[0m\u001b[0m\n",
            "\u001b[0;31mKeyError\u001b[0m: 4"
          ]
        }
      ]
    },
    {
      "cell_type": "code",
      "execution_count": null,
      "metadata": {
        "id": "nf1Uqag9HwOw"
      },
      "outputs": [],
      "source": [
        "df.shape[0]"
      ]
    },
    {
      "cell_type": "code",
      "execution_count": null,
      "metadata": {
        "id": "qPADIDnYBExH"
      },
      "outputs": [],
      "source": [
        "db_default.labels_"
      ]
    },
    {
      "cell_type": "code",
      "execution_count": null,
      "metadata": {
        "id": "0APtGS5A_Ri1"
      },
      "outputs": [],
      "source": [
        "np.unique(labels)"
      ]
    },
    {
      "cell_type": "code",
      "execution_count": null,
      "metadata": {
        "id": "r2Zg-JC4FF6j"
      },
      "outputs": [],
      "source": [
        "from sklearn.cluster import KMeans\n",
        "from sklearn.metrics import silhouette_samples, silhouette_score\n",
        "\n",
        "import matplotlib.pyplot as plt\n",
        "import matplotlib.cm as cm\n",
        "import numpy as np\n",
        "\n",
        "range_n_clusters = list(range(2,20))\n",
        "\n",
        "val = np.ndarray(shape=(1,2))\n",
        "scores = []\n",
        "for n_clusters in range_n_clusters:\n",
        "    clusterer = KMeans(n_clusters=n_clusters, random_state=10)\n",
        "    cluster_labels = clusterer.fit_predict(x_pca)\n",
        "    silhouette_avg = silhouette_score(x_pca, cluster_labels)\n",
        "    scores.append(silhouette_avg)\n",
        "    val = np.concatenate((val,[[n_clusters,silhouette_avg]]),axis=0)\n",
        "    print(\n",
        "        \"For n_clusters =\",\n",
        "        n_clusters,\n",
        "        \"The average silhouette_score is :\",\n",
        "        silhouette_avg,\n",
        "    )\n",
        "\n",
        "    sample_silhouette_values = silhouette_samples(X, cluster_labels)\n"
      ]
    },
    {
      "cell_type": "code",
      "source": [
        "plt.plot(range(2,20), scores)\n",
        "plt.title('Silhoutte scores')\n",
        "plt.xlabel('Number of clusters')\n",
        "plt.ylabel('silhouette score') #within cluster sum of squares\n",
        "plt.show()"
      ],
      "metadata": {
        "id": "pJ1e4mNywCQX"
      },
      "execution_count": null,
      "outputs": []
    },
    {
      "cell_type": "code",
      "execution_count": null,
      "metadata": {
        "id": "O4-DmHZ7sDYO"
      },
      "outputs": [],
      "source": [
        "val"
      ]
    },
    {
      "cell_type": "code",
      "execution_count": null,
      "metadata": {
        "id": "VzL3Whxaz_sh"
      },
      "outputs": [],
      "source": [
        "#Krishna\n",
        "\n",
        "from sklearn.cluster import KMeans\n",
        "\n",
        "kmeans = KMeans(n_clusters = 7, init = 'k-means++', max_iter = 300, n_init = 10, random_state = 0)\n",
        "y_kmeans = kmeans.fit_predict(x_pca)\n",
        "y_kmeans\n",
        "plt.scatter(x_pca[y_kmeans == 0, 0], x_pca[y_kmeans == 0, 1], s = 100, c = 'blue')\n",
        "plt.scatter(x_pca[y_kmeans == 1, 0], x_pca[y_kmeans == 1, 1], s = 100, c = 'orange')\n",
        "plt.scatter(x_pca[y_kmeans == 2, 0], x_pca[y_kmeans == 2, 1], s = 100, c = 'green')\n",
        "plt.scatter(x_pca[y_kmeans == 3, 0], x_pca[y_kmeans == 3, 1], s = 100, c = 'yellow')\n",
        "plt.scatter(x_pca[y_kmeans == 4, 0], x_pca[y_kmeans == 4, 1], s = 100, c = 'black')\n",
        "\n",
        "plt.scatter(x_pca[y_kmeans == 5, 0], x_pca[y_kmeans == 5, 1], s = 100, c = 'skyblue')\n",
        "plt.scatter(x_pca[y_kmeans == 6, 0], x_pca[y_kmeans == 6, 1], s = 100, c = 'pink')\n",
        "\n",
        "#plt.scatter(x[y_kmeans == 10, 0], x[y_kmeans == 10, 1], s = 100, c = '#8470FF')\n",
        "#plt.scatter(x[y_kmeans == 11, 0], x[y_kmeans == 11, 1], s = 100, c = '#FFFAFA')\n",
        "\n",
        "#Plotting the centroids of the clusters\n",
        "plt.scatter(kmeans.cluster_centers_[:, 0], kmeans.cluster_centers_[:,1], s = 100, c = 'red', label = 'Centroids')\n",
        "\n",
        "plt.legend()\n",
        "\n"
      ]
    },
    {
      "cell_type": "code",
      "source": [
        "#Performance Metrices\n",
        "import numpy as np\n",
        "import pandas as pd\n",
        "import matplotlib.pyplot as plt\n",
        "import seaborn as sns\n",
        "from sklearn.cluster import KMeans\n",
        "from sklearn.metrics import silhouette_score,calinski_harabasz_score,davies_bouldin_score\n",
        "\n",
        "\n",
        "X = x_pca\n",
        "labels = y_kmeans\n",
        " \n",
        "print(\"Silhouette Coefficient after PCA: %0.3f\" % silhouette_score(X, labels))\n",
        "print(\"Calinski-Harabasz Index after PCA: %0.3f\" % calinski_harabasz_score(X, labels))\n",
        "print(\"Davies-Bouldin Index after PCA: %0.3f\" % davies_bouldin_score(X, labels))"
      ],
      "metadata": {
        "id": "fm1B2O4io5ul"
      },
      "execution_count": null,
      "outputs": []
    }
  ],
  "metadata": {
    "colab": {
      "collapsed_sections": [],
      "provenance": [],
      "include_colab_link": true
    },
    "kernelspec": {
      "display_name": "Python 3",
      "name": "python3"
    },
    "language_info": {
      "name": "python"
    }
  },
  "nbformat": 4,
  "nbformat_minor": 0
}